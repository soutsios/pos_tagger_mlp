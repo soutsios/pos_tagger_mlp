{
 "cells": [
  {
   "cell_type": "markdown",
   "metadata": {},
   "source": [
    "# TEXT CLASSIFICATION WITH MULTI-LAYER PERCEPTRONS\n",
    "# Α Pos Tagger trained on UD treebank"
   ]
  },
  {
   "cell_type": "code",
   "execution_count": 176,
   "metadata": {},
   "outputs": [],
   "source": [
    "import pyconll, keras, pickle, os, random, nltk, datetime, warnings, gc, urllib.request, zipfile\n",
    "import numpy as np\n",
    "from scipy.sparse import hstack, vstack\n",
    "import matplotlib.pyplot as plt\n",
    "from gensim.models.keyedvectors import KeyedVectors\n",
    "from gensim.models import FastText\n",
    "from sklearn.feature_extraction import DictVectorizer\n",
    "from sklearn.linear_model import LogisticRegression\n",
    "from sklearn.metrics import recall_score, precision_score, classification_report, accuracy_score, confusion_matrix, f1_score\n",
    "from sklearn.model_selection import train_test_split, StratifiedKFold, KFold, GridSearchCV, learning_curve, cross_val_score\n",
    "from sklearn import preprocessing\n",
    "from keras.models import Sequential\n",
    "from keras.layers import Dense, Embedding, Flatten, BatchNormalization, Dropout, Input, Activation\n",
    "from keras.callbacks import ModelCheckpoint, EarlyStopping, TensorBoard\n",
    "from keras.utils import np_utils\n",
    "from sklearn.metrics.classification import UndefinedMetricWarning\n",
    "warnings.filterwarnings(action='ignore', category=UndefinedMetricWarning)\n",
    "from numpy.random import seed\n",
    "from tensorflow import set_random_seed"
   ]
  },
  {
   "cell_type": "markdown",
   "metadata": {},
   "source": [
    "# Various plot functions"
   ]
  },
  {
   "cell_type": "code",
   "execution_count": 2,
   "metadata": {},
   "outputs": [],
   "source": [
    "def plot_learning_curve(estimator, title, X, y, ylim=None, cv=None,\n",
    "                        n_jobs=None, train_sizes=np.linspace(.1, 1.0, 5)):\n",
    "    plt.title(title)\n",
    "    if ylim is not None:\n",
    "        plt.ylim(*ylim)\n",
    "    plt.xlabel(\"Training examples\")\n",
    "    plt.ylabel(\"Accuracy\")\n",
    "    train_sizes, train_scores, test_scores = learning_curve(\n",
    "        estimator, X, y, cv=cv, n_jobs=n_jobs, train_sizes=train_sizes, scoring='accuracy')\n",
    "    train_scores_mean = np.mean(train_scores, axis=1)\n",
    "    train_scores_std = np.std(train_scores, axis=1)\n",
    "    test_scores_mean = np.mean(test_scores, axis=1)\n",
    "    test_scores_std = np.std(test_scores, axis=1)\n",
    "    plt.grid()\n",
    "\n",
    "    plt.fill_between(train_sizes, train_scores_mean - train_scores_std,\n",
    "                     train_scores_mean + train_scores_std, alpha=0.1,\n",
    "                     color=\"r\")\n",
    "    plt.fill_between(train_sizes, test_scores_mean - test_scores_std,\n",
    "                     test_scores_mean + test_scores_std, alpha=0.1, color=\"g\")\n",
    "    plt.plot(train_sizes, train_scores_mean, 'o-', color=\"r\",\n",
    "             label=\"Training score\")\n",
    "    plt.plot(train_sizes, test_scores_mean, 'o-', color=\"g\",\n",
    "             label=\"Cross-validation score\")\n",
    "\n",
    "    plt.legend(loc=\"best\")\n",
    "    return plt"
   ]
  },
  {
   "cell_type": "code",
   "execution_count": 3,
   "metadata": {},
   "outputs": [],
   "source": [
    "def plot_confusion_matrix(f1,\n",
    "                          cm,\n",
    "                          target_names,\n",
    "                          title='Confusion matrix',\n",
    "                          cmap=None,\n",
    "                          normalize=True,\n",
    "                          i=1):\n",
    "    \"\"\"\n",
    "    given a sklearn confusion matrix (cm), make a nice plot\n",
    "\n",
    "    Arguments\n",
    "    ---------\n",
    "    cm:           confusion matrix from sklearn.metrics.confusion_matrix\n",
    "\n",
    "    target_names: given classification classes such as [0, 1, 2]\n",
    "                  the class names, for example: ['high', 'medium', 'low']\n",
    "\n",
    "    title:        the text to display at the top of the matrix\n",
    "\n",
    "    cmap:         the gradient of the values displayed from matplotlib.pyplot.cm\n",
    "                  see http://matplotlib.org/examples/color/colormaps_reference.html\n",
    "                  plt.get_cmap('jet') or plt.cm.Blues\n",
    "\n",
    "    normalize:    If False, plot the raw numbers\n",
    "                  If True, plot the proportions\n",
    "\n",
    "    Usage\n",
    "    -----\n",
    "    plot_confusion_matrix(cm           = cm,                  # confusion matrix created by\n",
    "                                                              # sklearn.metrics.confusion_matrix\n",
    "                          normalize    = True,                # show proportions\n",
    "                          target_names = y_labels_vals,       # list of names of the classes\n",
    "                          title        = best_estimator_name) # title of graph\n",
    "\n",
    "    Citiation\n",
    "    ---------\n",
    "    http://scikit-learn.org/stable/auto_examples/model_selection/plot_confusion_matrix.html\n",
    "\n",
    "    \"\"\"\n",
    "    import matplotlib.pyplot as plt\n",
    "    import numpy as np\n",
    "    import itertools\n",
    "\n",
    "    accuracy = np.trace(cm) / float(np.sum(cm))\n",
    "    misclass = 1 - accuracy\n",
    "    plt.figure(figsize=(10, 6))\n",
    "    if cmap is None:\n",
    "        cmap = plt.get_cmap('Blues')\n",
    "\n",
    "    plt.imshow(cm, interpolation='nearest', cmap=cmap)\n",
    "    plt.title(title)\n",
    "    plt.colorbar()\n",
    "\n",
    "    if target_names is not None:\n",
    "        tick_marks = np.arange(len(target_names))\n",
    "        plt.xticks(tick_marks, target_names, rotation=45)\n",
    "        plt.yticks(tick_marks, target_names)\n",
    "\n",
    "    if normalize:\n",
    "        cm = cm.astype('float') / cm.sum(axis=1)[:, np.newaxis]\n",
    "\n",
    "\n",
    "    thresh = cm.max() / 1.5 if normalize else cm.max() / 2\n",
    "    for i, j in itertools.product(range(cm.shape[0]), range(cm.shape[1])):\n",
    "        if normalize:\n",
    "            plt.text(j, i, \"{:0.4f}\".format(cm[i, j]),\n",
    "                     horizontalalignment=\"center\",\n",
    "                     color=\"white\" if cm[i, j] > thresh else \"black\")\n",
    "        else:\n",
    "            plt.text(j, i, \"{:,}\".format(cm[i, j]),\n",
    "                     horizontalalignment=\"center\",\n",
    "                     color=\"white\" if cm[i, j] > thresh else \"black\")\n",
    "\n",
    "\n",
    "    plt.tight_layout()\n",
    "    plt.ylabel('True label')\n",
    "    plt.xlabel('Predicted label\\naccuracy={:0.4f}; misclass={:0.4f}; f1-score={:0.4f}'.format(accuracy, misclass, f1))"
   ]
  },
  {
   "cell_type": "markdown",
   "metadata": {},
   "source": [
    "# Load Dataset"
   ]
  },
  {
   "cell_type": "code",
   "execution_count": 4,
   "metadata": {},
   "outputs": [],
   "source": [
    "UD_ENGLISH_TRAIN = 'en_partut-ud-train.conllu'\n",
    "UD_ENGLISH_DEV = 'en_partut-ud-dev.conllu'\n",
    "UD_ENGLISH_TEST = 'en_partut-ud-test.conllu'"
   ]
  },
  {
   "cell_type": "code",
   "execution_count": 5,
   "metadata": {},
   "outputs": [],
   "source": [
    "def download_files():\n",
    "    print('Downloading English treebank...')\n",
    "    urllib.request.urlretrieve('http://archive.aueb.gr:8085/files/en_partut-ud-dev.conllu', 'en_partut-ud-dev.conllu')\n",
    "    urllib.request.urlretrieve('http://archive.aueb.gr:8085/files/en_partut-ud-test.conllu', 'en_partut-ud-test.conllu')\n",
    "    urllib.request.urlretrieve('http://archive.aueb.gr:8085/files/en_partut-ud-train.conllu', 'en_partut-ud-train.conllu')\n",
    "    print('Treebank downloaded.')\n",
    "    print('Downloading Fasttext pre-trained word embeddings...')\n",
    "    urllib.request.urlretrieve('https://dl.fbaipublicfiles.com/fasttext/vectors-english/wiki-news-300d-1M.vec.zip', 'wiki-news-300d-1M.vec.zip')\n",
    "    print('Pre-trained word embeddings downloaded.')\n",
    "    print('Extracting zip file...')\n",
    "    zip_ref = zipfile.ZipFile('wiki-news-300d-1M.vec.zip', 'r')\n",
    "    zip_ref.extractall('.')\n",
    "    zip_ref.close()\n",
    "    print('Zip file extracted.')"
   ]
  },
  {
   "cell_type": "code",
   "execution_count": 6,
   "metadata": {},
   "outputs": [
    {
     "name": "stdout",
     "output_type": "stream",
     "text": [
      "Downloading English treebank...\n",
      "Treebank downloaded.\n",
      "Downloading Fasttext pre-trained word embeddings...\n",
      "Pre-trained word embeddings downloaded.\n",
      "Extracting zip file...\n",
      "Zip file extracted.\n"
     ]
    }
   ],
   "source": [
    "download_files()"
   ]
  },
  {
   "cell_type": "markdown",
   "metadata": {},
   "source": [
    "# Preprocessing"
   ]
  },
  {
   "cell_type": "code",
   "execution_count": 5,
   "metadata": {},
   "outputs": [],
   "source": [
    "def read_conllu(path):\n",
    "    data = pyconll.load_from_file(path)\n",
    "    tagged_sentences=[]\n",
    "    t=0\n",
    "    for sentence in data:\n",
    "        tagged_sentence=[]\n",
    "        for token in sentence:\n",
    "            if token.upos:\n",
    "                t+=1\n",
    "                tagged_sentence.append((token.form.lower(), token.upos))\n",
    "        tagged_sentences.append(tagged_sentence)\n",
    "    return tagged_sentences"
   ]
  },
  {
   "cell_type": "markdown",
   "metadata": {},
   "source": [
    "Load train, development and test set in the appropriate tagged format, tuple (word, pos-tag)"
   ]
  },
  {
   "cell_type": "code",
   "execution_count": 6,
   "metadata": {},
   "outputs": [],
   "source": [
    "train_sentences = read_conllu(UD_ENGLISH_TRAIN)\n",
    "val_sentences = read_conllu(UD_ENGLISH_DEV)\n",
    "test_sentences = read_conllu(UD_ENGLISH_TEST)"
   ]
  },
  {
   "cell_type": "markdown",
   "metadata": {},
   "source": [
    "Print some statistics"
   ]
  },
  {
   "cell_type": "code",
   "execution_count": 7,
   "metadata": {},
   "outputs": [
    {
     "name": "stdout",
     "output_type": "stream",
     "text": [
      "Tagged sentences in train set:  1781\n",
      "Tagged words in train set: 43518\n",
      "========================================\n",
      "Tagged sentences in dev set:  156\n",
      "Tagged words in dev set: 2722\n",
      "========================================\n",
      "Tagged sentences in test set:  153\n",
      "Tagged words in test set: 3408\n"
     ]
    }
   ],
   "source": [
    "print(\"Tagged sentences in train set: \", len(train_sentences))\n",
    "print(\"Tagged words in train set:\", len([item for sublist in train_sentences for item in sublist]))\n",
    "print(40*'=')\n",
    "print(\"Tagged sentences in dev set: \", len(val_sentences))\n",
    "print(\"Tagged words in dev set:\", len([item for sublist in val_sentences for item in sublist]))\n",
    "print(40*'=')\n",
    "print(\"Tagged sentences in test set: \", len(test_sentences))\n",
    "print(\"Tagged words in test set:\", len([item for sublist in test_sentences for item in sublist]))"
   ]
  },
  {
   "cell_type": "code",
   "execution_count": 8,
   "metadata": {},
   "outputs": [
    {
     "name": "stdout",
     "output_type": "stream",
     "text": [
      "[('distribution', 'NOUN'), ('of', 'ADP'), ('this', 'DET'), ('license', 'NOUN'), ('does', 'AUX'), ('not', 'PART'), ('create', 'VERB'), ('an', 'DET'), ('attorney', 'NOUN'), ('-', 'PUNCT'), ('client', 'NOUN'), ('relationship', 'NOUN'), ('.', 'PUNCT')]\n"
     ]
    }
   ],
   "source": [
    "print(train_sentences[0])"
   ]
  },
  {
   "cell_type": "code",
   "execution_count": 9,
   "metadata": {},
   "outputs": [],
   "source": [
    "def tag_sequence(sentences):\n",
    "    return [[t for w, t in sentence] for sentence in sentences]\n",
    "\n",
    "def text_sequence(sentences):\n",
    "    return [[w for w, t in sentence] for sentence in sentences]\n",
    "\n",
    "def id2word(sentences):\n",
    "    wordlist = [item for sublist in text_sequence(sentences) for item in sublist]\n",
    "    id2word = {k:v for k,v in enumerate(wordlist)}\n",
    "    return id2word\n",
    "\n",
    "def untag(tagged_sentence):\n",
    "    return [w for w, _ in tagged_sentence]\n",
    "\n",
    "def untag_pos(tagged_sentence):\n",
    "    return [t for _, t in tagged_sentence]\n",
    "\n",
    "def build_vocab(sentences):\n",
    "    vocab =set()\n",
    "    for sentence in sentences:\n",
    "        for word in untag(sentence):\n",
    "            vocab.add(word)\n",
    "    return sorted(list(vocab))"
   ]
  },
  {
   "cell_type": "markdown",
   "metadata": {},
   "source": [
    "A nice observation: there are 286 terms in validation set not found in train set"
   ]
  },
  {
   "cell_type": "code",
   "execution_count": 10,
   "metadata": {},
   "outputs": [
    {
     "name": "stdout",
     "output_type": "stream",
     "text": [
      "Number of terms not found in train set: 286\n"
     ]
    }
   ],
   "source": [
    "list_1 = build_vocab(train_sentences)\n",
    "list_2 = build_vocab(val_sentences)\n",
    "diff_list = [item for item in list_2 if item not in list_1]\n",
    "print('Number of terms not found in train set:',len(diff_list))"
   ]
  },
  {
   "cell_type": "markdown",
   "metadata": {},
   "source": [
    "# Load pretrained word-embeddings"
   ]
  },
  {
   "cell_type": "markdown",
   "metadata": {},
   "source": [
    "We use fasttext wiki-news vectors to build a dictionary with word as key and its vector as value"
   ]
  },
  {
   "cell_type": "code",
   "execution_count": 11,
   "metadata": {},
   "outputs": [
    {
     "name": "stdout",
     "output_type": "stream",
     "text": [
      "(999994, 300)\n"
     ]
    }
   ],
   "source": [
    "embs_path = 'wiki-news-300d-1M.vec'\n",
    "embeddings = KeyedVectors.load_word2vec_format(embs_path, binary=False)\n",
    "print(embeddings.vectors.shape)"
   ]
  },
  {
   "cell_type": "markdown",
   "metadata": {},
   "source": [
    "Let see the 10 most frequent terms"
   ]
  },
  {
   "cell_type": "code",
   "execution_count": 12,
   "metadata": {},
   "outputs": [],
   "source": [
    "w2c = dict()\n",
    "for item in embeddings.vocab:\n",
    "    w2c[item]=embeddings.vocab[item].count"
   ]
  },
  {
   "cell_type": "code",
   "execution_count": 13,
   "metadata": {},
   "outputs": [
    {
     "data": {
      "text/plain": [
       "{'\"': 999986,\n",
       " ',': 999994,\n",
       " '.': 999992,\n",
       " ':': 999985,\n",
       " 'a': 999987,\n",
       " 'and': 999991,\n",
       " 'in': 999988,\n",
       " 'of': 999990,\n",
       " 'the': 999993,\n",
       " 'to': 999989}"
      ]
     },
     "execution_count": 13,
     "metadata": {},
     "output_type": "execute_result"
    }
   ],
   "source": [
    "dict(sorted(w2c.items(), key=lambda x: x[1],reverse=True)[:10])"
   ]
  },
  {
   "cell_type": "markdown",
   "metadata": {},
   "source": [
    "# Feature Engineering"
   ]
  },
  {
   "cell_type": "code",
   "execution_count": 36,
   "metadata": {},
   "outputs": [],
   "source": [
    "dim = embeddings.vectors.shape[1]\n",
    "pad = np.zeros(dim) # Pad vector\n",
    "np.random.seed(3) # For reproducibility \n",
    "oov =  np.random.uniform(-0.25, 0.25, dim) # Out-of-vocabulary vector\n",
    "\n",
    "def features_embs(sentence, index, window=1, method='concat'):\n",
    "    \"\"\" sentence: [w1, w2, ...],\n",
    "        index: the index of the word, \n",
    "        window: number of places left and right of the classified word,\n",
    "        method: sum or concatenate the vectors of words in the window \"\"\"\n",
    "    unknown = 0 \n",
    "    if method == 'sum':\n",
    "        vec = np.array(dim)\n",
    "        for i in range(index-window,index+window+1):\n",
    "            if i<0:\n",
    "                vec = np.sum([vec, pad], axis=0)\n",
    "                continue\n",
    "            if i>len(sentence)-1:\n",
    "                vec = np.sum([vec, pad], axis=0)\n",
    "                continue\n",
    "            try:\n",
    "                vec = np.sum([vec, embeddings[sentence[i]]], axis=0)\n",
    "            except:\n",
    "                vec = np.sum([vec, oov], axis=0)\n",
    "                unknown +=1\n",
    "                \n",
    "    if method == 'concat':\n",
    "        vec = np.array([])\n",
    "        for i in range(index-window,index+window+1):\n",
    "            if i<0:\n",
    "                vec = np.append(vec, pad) #for word indices out of sentence bounds (begin), append pad vector \n",
    "                continue\n",
    "            if i>len(sentence)-1:\n",
    "                vec = np.append(vec, pad) #for word indices out of sentence bounds (end), append pad vector\n",
    "                continue\n",
    "            try:\n",
    "                vec = np.append(vec, embeddings[sentence[i]])\n",
    "            except:\n",
    "                vec = np.append(vec, oov) #if word is not in embedding model append the oov vector\n",
    "                unknown +=1\n",
    "                \n",
    "    return vec, unknown"
   ]
  },
  {
   "cell_type": "code",
   "execution_count": 15,
   "metadata": {},
   "outputs": [],
   "source": [
    "def features_basic(sentence, index):\n",
    "    \"\"\" sentence: [w1, w2, ...], index: the index of the word \"\"\"\n",
    "    return {\n",
    "        'nb_terms': len(sentence),        \n",
    "        'word': sentence[index],\n",
    "        'is_first': index == 0,\n",
    "        'is_last': index == len(sentence) - 1,\n",
    "        'is_capitalized': sentence[index][0].upper() == sentence[index][0],\n",
    "        'is_all_caps': sentence[index].upper() == sentence[index],\n",
    "        'is_all_lower': sentence[index].lower() == sentence[index],\n",
    "        'prefix-1': sentence[index][0],\n",
    "        'prefix-2': sentence[index][:2],\n",
    "        'prefix-3': sentence[index][:3],\n",
    "        'suffix-1': sentence[index][-1],\n",
    "        'suffix-2': sentence[index][-2:],\n",
    "        'suffix-3': sentence[index][-3:],\n",
    "        'i-1_prefix-3': '' if index == 0 else sentence[index-1][:3],        \n",
    "        'i-1_suffix-3': '' if index == 0 else sentence[index-1][-3:],        \n",
    "        'i+1_prefix-3': '' if index == len(sentence) - 1 else sentence[index+1][:3],        \n",
    "        'i+1_suffix-3': '' if index == len(sentence) - 1 else sentence[index+1][-3:],        \n",
    "        'prev_word': '' if index == 0 else sentence[index - 1],\n",
    "        'next_word': '' if index == len(sentence) - 1 else sentence[index + 1],\n",
    "        'has_hyphen': '-' in sentence[index],\n",
    "        'is_numeric': sentence[index].isdigit(),\n",
    "        'capitals_inside': sentence[index][1:].lower() != sentence[index][1:],\n",
    "    }"
   ]
  },
  {
   "cell_type": "code",
   "execution_count": 16,
   "metadata": {},
   "outputs": [],
   "source": [
    "def transform_to_dataset(tagged_sentences, window):\n",
    "    i=0\n",
    "    X, y = [], []\n",
    "    for doc_index, tagged in enumerate(tagged_sentences):\n",
    "        for index in range(len(tagged)):\n",
    "            X.append([features_basic(untag(tagged), index),\\\n",
    "                      features_embs(untag(tagged), index, window)[0],\\\n",
    "                     ])\n",
    "            y.append(tagged[index][1])\n",
    "            #features_embs(untag(tagged), index, window)[1]\n",
    "            k = features_embs(untag(tagged), index, window)[1]\n",
    "            i += k\n",
    "    return X, y, i"
   ]
  },
  {
   "cell_type": "code",
   "execution_count": 17,
   "metadata": {},
   "outputs": [],
   "source": [
    "def transform_test_sentence(sentence, window):\n",
    "    X = []\n",
    "    for index in range(len(sentence)):\n",
    "            X.append([\n",
    "                      features_basic(sentence, index),\\\n",
    "                      features_embs(sentence, index, window),\\\n",
    "                     ])\n",
    "    return X"
   ]
  },
  {
   "cell_type": "markdown",
   "metadata": {},
   "source": [
    "## Do some tests to see how our untag() and features_embs() functions work"
   ]
  },
  {
   "cell_type": "code",
   "execution_count": 18,
   "metadata": {},
   "outputs": [
    {
     "data": {
      "text/plain": [
       "['any',\n",
       " 'use',\n",
       " 'of',\n",
       " 'the',\n",
       " 'work',\n",
       " 'other',\n",
       " 'than',\n",
       " 'as',\n",
       " 'authorized',\n",
       " 'under',\n",
       " 'this',\n",
       " 'license',\n",
       " 'or',\n",
       " 'copyright',\n",
       " 'law',\n",
       " 'is',\n",
       " 'prohibited',\n",
       " '.']"
      ]
     },
     "execution_count": 18,
     "metadata": {},
     "output_type": "execute_result"
    }
   ],
   "source": [
    "untag(test_sentences[1])"
   ]
  },
  {
   "cell_type": "code",
   "execution_count": 19,
   "metadata": {},
   "outputs": [],
   "source": [
    "test_sentence = ['This', 'is', 'very', 'good', 'for', 'the', 'world', '!']"
   ]
  },
  {
   "cell_type": "code",
   "execution_count": 20,
   "metadata": {},
   "outputs": [
    {
     "name": "stdout",
     "output_type": "stream",
     "text": [
      "Shape of vector at index 0 of test_sentence for window size 1: 900\n",
      "Shape of vector at index 3 of test_sentence for window size 2: 1500\n"
     ]
    }
   ],
   "source": [
    "print('Shape of vector at index 0 of test_sentence for window size 1:',len(features_embs(test_sentence, 0, window=1, method='concat')[0]))\n",
    "print('Shape of vector at index 3 of test_sentence for window size 2:',len(features_embs(test_sentence, 0, window=2, method='concat')[0]))"
   ]
  },
  {
   "cell_type": "code",
   "execution_count": 21,
   "metadata": {},
   "outputs": [
    {
     "name": "stdout",
     "output_type": "stream",
     "text": [
      "[ 0.00000000e+00  0.00000000e+00  0.00000000e+00  0.00000000e+00\n",
      "  0.00000000e+00  0.00000000e+00  0.00000000e+00  0.00000000e+00\n",
      "  0.00000000e+00  0.00000000e+00  0.00000000e+00  0.00000000e+00\n",
      "  0.00000000e+00  0.00000000e+00  0.00000000e+00  0.00000000e+00\n",
      "  0.00000000e+00  0.00000000e+00  0.00000000e+00  0.00000000e+00\n",
      "  0.00000000e+00  0.00000000e+00  0.00000000e+00  0.00000000e+00\n",
      "  0.00000000e+00  0.00000000e+00  0.00000000e+00  0.00000000e+00\n",
      "  0.00000000e+00  0.00000000e+00  0.00000000e+00  0.00000000e+00\n",
      "  0.00000000e+00  0.00000000e+00  0.00000000e+00  0.00000000e+00\n",
      "  0.00000000e+00  0.00000000e+00  0.00000000e+00  0.00000000e+00\n",
      "  0.00000000e+00  0.00000000e+00  0.00000000e+00  0.00000000e+00\n",
      "  0.00000000e+00  0.00000000e+00  0.00000000e+00  0.00000000e+00\n",
      "  0.00000000e+00  0.00000000e+00  0.00000000e+00  0.00000000e+00\n",
      "  0.00000000e+00  0.00000000e+00  0.00000000e+00  0.00000000e+00\n",
      "  0.00000000e+00  0.00000000e+00  0.00000000e+00  0.00000000e+00\n",
      "  0.00000000e+00  0.00000000e+00  0.00000000e+00  0.00000000e+00\n",
      "  0.00000000e+00  0.00000000e+00  0.00000000e+00  0.00000000e+00\n",
      "  0.00000000e+00  0.00000000e+00  0.00000000e+00  0.00000000e+00\n",
      "  0.00000000e+00  0.00000000e+00  0.00000000e+00  0.00000000e+00\n",
      "  0.00000000e+00  0.00000000e+00  0.00000000e+00  0.00000000e+00\n",
      "  0.00000000e+00  0.00000000e+00  0.00000000e+00  0.00000000e+00\n",
      "  0.00000000e+00  0.00000000e+00  0.00000000e+00  0.00000000e+00\n",
      "  0.00000000e+00  0.00000000e+00  0.00000000e+00  0.00000000e+00\n",
      "  0.00000000e+00  0.00000000e+00  0.00000000e+00  0.00000000e+00\n",
      "  0.00000000e+00  0.00000000e+00  0.00000000e+00  0.00000000e+00\n",
      "  0.00000000e+00  0.00000000e+00  0.00000000e+00  0.00000000e+00\n",
      "  0.00000000e+00  0.00000000e+00  0.00000000e+00  0.00000000e+00\n",
      "  0.00000000e+00  0.00000000e+00  0.00000000e+00  0.00000000e+00\n",
      "  0.00000000e+00  0.00000000e+00  0.00000000e+00  0.00000000e+00\n",
      "  0.00000000e+00  0.00000000e+00  0.00000000e+00  0.00000000e+00\n",
      "  0.00000000e+00  0.00000000e+00  0.00000000e+00  0.00000000e+00\n",
      "  0.00000000e+00  0.00000000e+00  0.00000000e+00  0.00000000e+00\n",
      "  0.00000000e+00  0.00000000e+00  0.00000000e+00  0.00000000e+00\n",
      "  0.00000000e+00  0.00000000e+00  0.00000000e+00  0.00000000e+00\n",
      "  0.00000000e+00  0.00000000e+00  0.00000000e+00  0.00000000e+00\n",
      "  0.00000000e+00  0.00000000e+00  0.00000000e+00  0.00000000e+00\n",
      "  0.00000000e+00  0.00000000e+00  0.00000000e+00  0.00000000e+00\n",
      "  0.00000000e+00  0.00000000e+00  0.00000000e+00  0.00000000e+00\n",
      "  0.00000000e+00  0.00000000e+00  0.00000000e+00  0.00000000e+00\n",
      "  0.00000000e+00  0.00000000e+00  0.00000000e+00  0.00000000e+00\n",
      "  0.00000000e+00  0.00000000e+00  0.00000000e+00  0.00000000e+00\n",
      "  0.00000000e+00  0.00000000e+00  0.00000000e+00  0.00000000e+00\n",
      "  0.00000000e+00  0.00000000e+00  0.00000000e+00  0.00000000e+00\n",
      "  0.00000000e+00  0.00000000e+00  0.00000000e+00  0.00000000e+00\n",
      "  0.00000000e+00  0.00000000e+00  0.00000000e+00  0.00000000e+00\n",
      "  0.00000000e+00  0.00000000e+00  0.00000000e+00  0.00000000e+00\n",
      "  0.00000000e+00  0.00000000e+00  0.00000000e+00  0.00000000e+00\n",
      "  0.00000000e+00  0.00000000e+00  0.00000000e+00  0.00000000e+00\n",
      "  0.00000000e+00  0.00000000e+00  0.00000000e+00  0.00000000e+00\n",
      "  0.00000000e+00  0.00000000e+00  0.00000000e+00  0.00000000e+00\n",
      "  0.00000000e+00  0.00000000e+00  0.00000000e+00  0.00000000e+00\n",
      "  0.00000000e+00  0.00000000e+00  0.00000000e+00  0.00000000e+00\n",
      "  0.00000000e+00  0.00000000e+00  0.00000000e+00  0.00000000e+00\n",
      "  0.00000000e+00  0.00000000e+00  0.00000000e+00  0.00000000e+00\n",
      "  0.00000000e+00  0.00000000e+00  0.00000000e+00  0.00000000e+00\n",
      "  0.00000000e+00  0.00000000e+00  0.00000000e+00  0.00000000e+00\n",
      "  0.00000000e+00  0.00000000e+00  0.00000000e+00  0.00000000e+00\n",
      "  0.00000000e+00  0.00000000e+00  0.00000000e+00  0.00000000e+00\n",
      "  0.00000000e+00  0.00000000e+00  0.00000000e+00  0.00000000e+00\n",
      "  0.00000000e+00  0.00000000e+00  0.00000000e+00  0.00000000e+00\n",
      "  0.00000000e+00  0.00000000e+00  0.00000000e+00  0.00000000e+00\n",
      "  0.00000000e+00  0.00000000e+00  0.00000000e+00  0.00000000e+00\n",
      "  0.00000000e+00  0.00000000e+00  0.00000000e+00  0.00000000e+00\n",
      "  0.00000000e+00  0.00000000e+00  0.00000000e+00  0.00000000e+00\n",
      "  0.00000000e+00  0.00000000e+00  0.00000000e+00  0.00000000e+00\n",
      "  0.00000000e+00  0.00000000e+00  0.00000000e+00  0.00000000e+00\n",
      "  0.00000000e+00  0.00000000e+00  0.00000000e+00  0.00000000e+00\n",
      "  0.00000000e+00  0.00000000e+00  0.00000000e+00  0.00000000e+00\n",
      "  0.00000000e+00  0.00000000e+00  0.00000000e+00  0.00000000e+00\n",
      "  0.00000000e+00  0.00000000e+00  0.00000000e+00  0.00000000e+00\n",
      "  0.00000000e+00  0.00000000e+00  0.00000000e+00  0.00000000e+00\n",
      "  0.00000000e+00  0.00000000e+00  0.00000000e+00  0.00000000e+00\n",
      "  0.00000000e+00  0.00000000e+00  0.00000000e+00  0.00000000e+00\n",
      "  0.00000000e+00  0.00000000e+00  0.00000000e+00  0.00000000e+00\n",
      "  0.00000000e+00  0.00000000e+00  0.00000000e+00  0.00000000e+00\n",
      "  1.31699994e-01 -2.63999999e-02  8.22999999e-02 -2.19999999e-03\n",
      "  3.95999998e-02 -1.47900000e-01 -2.44999994e-02 -2.33999994e-02\n",
      "  5.10000018e-03  3.35000008e-02  4.45999987e-02  9.26000029e-02\n",
      " -8.89999978e-03  2.10400000e-01  2.40000002e-02 -1.29000004e-02\n",
      " -6.17000014e-02  3.53999995e-02  1.36600003e-01 -1.37999998e-02\n",
      "  4.50999998e-02 -1.09499998e-01  2.36000009e-02 -1.16999997e-02\n",
      " -4.78999987e-02 -2.27500007e-01 -1.78999994e-02 -1.56299993e-01\n",
      "  3.68999988e-02  4.96000014e-02  4.49999981e-03  2.05000006e-02\n",
      " -5.73999994e-02  2.41000000e-02 -2.50000004e-02 -1.50000001e-03\n",
      "  3.75000015e-02  8.03999975e-02  4.21000011e-02  2.54999995e-02\n",
      " -8.51999968e-02  9.96000022e-02  1.45500004e-01 -2.40000002e-02\n",
      " -1.58700004e-01 -6.30000001e-03  1.13000004e-02  4.32999991e-02\n",
      "  5.29999994e-02 -1.64000001e-02 -5.04000001e-02 -1.58700004e-01\n",
      " -6.08500004e-01  1.27999997e-02  5.00000007e-02 -1.08300000e-01\n",
      " -3.29999998e-02 -7.24000037e-02 -2.66499996e-01 -5.04000001e-02\n",
      "  3.20000015e-02  2.66999993e-02 -1.33499995e-01  2.69000009e-02\n",
      " -6.01999983e-02  2.67999992e-02  7.46999979e-02  1.54999997e-02\n",
      "  3.61000001e-02  2.36000009e-02  1.15999999e-02 -1.20000006e-03\n",
      " -2.03000009e-02 -5.18000014e-02 -2.86999997e-02 -2.95000002e-02\n",
      " -1.54999997e-02 -1.59999996e-03 -7.77999982e-02 -1.38200000e-01\n",
      " -4.21000011e-02  5.99000007e-02  4.72999997e-02 -2.50299990e-01\n",
      "  7.19999988e-03 -4.12000008e-02  6.31999969e-02 -3.70000000e-03\n",
      " -1.97999999e-02  6.58000037e-02 -6.06000014e-02  7.23000020e-02\n",
      " -1.85000002e-02  1.31799996e-01  2.10999995e-02  2.41000000e-02\n",
      " -4.34000008e-02  5.90000022e-03  3.44000012e-02 -2.38000005e-02\n",
      " -7.01000020e-02  1.30000003e-02  1.90000003e-03  6.17999993e-02\n",
      " -2.83499986e-01  1.31000001e-02 -1.84300005e-01 -5.53999990e-02\n",
      " -9.52000022e-02 -5.90999983e-02 -3.39000002e-02  3.68999988e-02\n",
      "  7.19999988e-03 -4.89999987e-02  8.70000012e-03 -1.10100001e-01\n",
      " -2.82000005e-02  1.43999998e-02 -1.10999998e-02 -2.65300006e-01\n",
      " -1.37999998e-02 -4.61000018e-02  6.81999996e-02 -2.45499998e-01\n",
      "  7.46999979e-02  9.95000005e-02  3.59999994e-03  1.33999996e-02\n",
      " -6.23999983e-02  3.10000009e-03  9.29000005e-02 -7.49999983e-03\n",
      " -3.48999985e-02  4.80999984e-02 -1.42000001e-02 -2.83300012e-01\n",
      " -8.89999978e-03 -5.29999994e-02  4.78999987e-02 -3.37000005e-02\n",
      "  1.66999996e-02 -1.04999999e-02  5.97000010e-02  1.75200000e-01\n",
      " -7.15000033e-02  2.30999999e-02  2.92000007e-02 -1.09499998e-01\n",
      " -3.46999988e-02  7.40000000e-03  9.42000002e-02  5.82999997e-02\n",
      " -1.19000003e-02 -2.44999994e-02  5.49999997e-02  5.29999984e-03\n",
      "  6.45999983e-02  4.52999994e-02  5.42999990e-02 -6.89999992e-03\n",
      "  2.33999994e-02 -1.86000001e-02  5.92000000e-02  2.07000002e-02\n",
      " -5.22099972e-01 -3.72000001e-02  8.60000029e-03 -1.74700007e-01\n",
      "  8.32000002e-02 -6.35000020e-02 -4.37299997e-01  2.74000000e-02\n",
      "  3.77000012e-02 -3.09999995e-02  1.61000006e-02 -2.65300006e-01\n",
      "  1.99100003e-01 -1.07900001e-01 -2.30000005e-03  2.30000005e-03\n",
      "  7.38999993e-02  3.70000005e-02  7.63999969e-02  3.51999998e-02\n",
      " -3.66999991e-02 -9.04000029e-02  6.80999979e-02  8.29000026e-02\n",
      "  9.97999981e-02 -1.30000000e-03  1.77999996e-02  1.36000002e-02\n",
      "  1.19000003e-02  6.78000003e-02 -1.61000006e-02  3.00000003e-03\n",
      " -1.11999996e-02  6.93999976e-02 -1.02629995e+00  2.36000009e-02\n",
      " -4.85999994e-02 -6.00000005e-03  4.21999991e-02  8.35999995e-02\n",
      "  1.64600000e-01 -6.89999983e-02 -6.92000017e-02 -1.92699999e-01\n",
      "  6.15999997e-02 -1.31000001e-02  8.60999972e-02 -3.62000018e-02\n",
      "  7.89999962e-03 -8.02000016e-02  5.38999997e-02  8.86000022e-02\n",
      "  1.39699996e-01 -2.41000000e-02  8.94000009e-02 -7.00000003e-02\n",
      " -3.59999985e-02  1.36800006e-01 -3.89999989e-03  3.59000005e-02\n",
      "  2.77999993e-02  1.57900006e-01  7.98999965e-02 -3.00000014e-04\n",
      " -5.64000010e-02 -2.93199986e-01  3.53000015e-02  1.30000000e-03\n",
      "  1.03600003e-01  1.58099994e-01  1.37000000e-02  1.66099995e-01\n",
      "  2.94000003e-02 -1.71599999e-01 -1.68500006e-01  5.20999990e-02\n",
      "  1.31000001e-02 -3.15000005e-02 -2.82000005e-02 -2.52999999e-02\n",
      "  6.19999990e-02 -1.21699996e-01 -8.73999968e-02 -2.08000001e-02\n",
      "  4.19999985e-03 -3.75000015e-02 -4.60000001e-02 -3.92999984e-02\n",
      " -7.84000009e-02  3.42999995e-02 -6.10999987e-02  4.78000008e-02\n",
      " -1.21999998e-02 -5.57000004e-02  3.95999998e-02 -1.54999997e-02\n",
      "  4.49999981e-03 -3.84999998e-02  9.99999978e-03  2.09999993e-03\n",
      " -1.39799997e-01  4.67999987e-02 -8.07999969e-02  2.08999999e-02\n",
      " -1.17700003e-01 -4.17000018e-02 -2.45999992e-02  4.14000005e-02\n",
      " -3.55999991e-02  5.49999997e-02 -3.81000005e-02  2.53999997e-02\n",
      "  5.53000011e-02 -1.93000007e-02 -6.93999976e-02 -4.25000004e-02\n",
      " -2.52999999e-02 -9.73000005e-02  1.15300000e-01  2.32999995e-02\n",
      "  1.79999997e-03 -1.85000002e-02  1.55800000e-01  6.59999996e-03\n",
      "  1.20499998e-01  5.05999997e-02  7.00000022e-03  3.86000015e-02\n",
      " -2.39000004e-02 -6.06999993e-02 -1.58999994e-01 -6.04000017e-02\n",
      " -4.72000018e-02  1.62799999e-01  4.21000011e-02  3.97000015e-02\n",
      "  1.55999996e-02  7.51999989e-02 -7.80000016e-02  2.41000000e-02\n",
      " -1.44800007e-01 -2.26000007e-02 -8.30999985e-02 -1.48000000e-02\n",
      "  5.73000014e-02  2.95000002e-02  3.57000008e-02  5.05999997e-02\n",
      "  1.14600003e-01  2.88999993e-02  6.80000037e-02  7.63999969e-02\n",
      "  5.90000022e-03 -6.80999979e-02  2.11999994e-02 -7.60000013e-03\n",
      " -7.30000017e-03 -5.48000000e-02  3.13999988e-02  4.74999994e-02\n",
      " -8.98000002e-02 -9.08000022e-02  2.89999992e-02 -1.46500006e-01\n",
      "  3.79000008e-02  7.76000023e-02  9.76999998e-02 -4.78000008e-02\n",
      " -2.80000009e-02 -1.72000006e-02  6.80000009e-03 -5.31000011e-02\n",
      "  8.29999987e-03  4.58000004e-02  3.70000000e-03  9.89999995e-03\n",
      " -5.73000014e-02 -5.29999994e-02 -2.97999997e-02 -4.08000015e-02\n",
      "  3.75999995e-02  4.54999991e-02 -3.39000002e-02  6.39999984e-03\n",
      "  2.40000011e-03 -2.50000004e-02 -8.56000036e-02 -1.10100001e-01\n",
      " -5.04299998e-01  4.10000002e-03  2.04000007e-02  7.02000037e-02\n",
      "  5.86000010e-02  1.78999994e-02 -7.59999976e-02  5.16999997e-02\n",
      "  5.70000010e-03  1.26999998e-02 -6.32999986e-02  1.73000004e-02\n",
      " -7.93000013e-02  3.35999988e-02  3.44999991e-02 -2.96000000e-02\n",
      "  4.80000004e-02 -5.38999997e-02  3.59999994e-03  1.64999999e-02\n",
      " -8.29999987e-03  2.05200002e-01  1.35000004e-02 -4.34999987e-02\n",
      " -2.92000007e-02 -4.08999994e-02 -8.64000022e-02  1.54699996e-01\n",
      "  3.26999985e-02 -4.05000001e-02 -1.48000000e-02 -1.98799998e-01\n",
      " -3.51999998e-02  1.03200004e-01  2.43999995e-02  5.10000018e-03\n",
      " -3.70700002e-01 -3.51999998e-02  1.48999998e-02 -2.65999995e-02\n",
      " -2.70000007e-03 -1.12800002e-01  1.05300002e-01  2.18000002e-02\n",
      " -1.27999997e-02  7.20999986e-02  7.53000006e-02  3.05000003e-02\n",
      " -1.14200003e-01  5.90000022e-03  6.20000018e-03  2.75999997e-02\n",
      "  8.15000013e-02  2.30000005e-03 -6.39999984e-03  5.53999990e-02\n",
      "  1.64000001e-02  1.64999999e-02 -1.18000004e-02 -7.94999972e-02\n",
      " -4.08999994e-02  3.62999998e-02 -3.15000005e-02 -1.10399999e-01\n",
      " -5.79999993e-03 -4.96000014e-02 -2.37000007e-02 -3.81599993e-01\n",
      " -7.47999996e-02 -1.89999994e-02  6.81999996e-02 -1.33900002e-01\n",
      "  5.02999984e-02  1.44199997e-01 -2.79999990e-03  1.24000004e-02\n",
      " -5.64000010e-02  2.87999995e-02 -2.63000000e-02  2.14000009e-02\n",
      " -2.58000009e-02 -1.61000006e-02  3.48999985e-02  9.88999978e-02\n",
      "  1.09000001e-02 -7.90000036e-02 -1.52000003e-02  3.44000012e-02\n",
      " -5.22000007e-02 -9.60000046e-03 -7.59000033e-02  4.13300008e-01\n",
      "  1.40000004e-02 -3.59999994e-03  1.33800000e-01 -4.41999994e-02\n",
      " -2.96000000e-02  9.30000003e-03  1.20399997e-01 -3.61000001e-02\n",
      "  9.21000019e-02 -5.60000017e-02  1.47000002e-02  2.51000002e-02\n",
      "  3.29999998e-02  3.31999995e-02  5.20999990e-02 -2.89999992e-02\n",
      "  1.39999995e-03  1.21500000e-01 -1.64999999e-02 -5.70000010e-03\n",
      " -4.51099992e-01  1.22999996e-02  8.47999975e-02 -1.86999999e-02\n",
      " -7.98999965e-02 -1.27999997e-02  1.71100006e-01 -3.33000012e-02\n",
      " -2.63000000e-02  1.37000000e-02  2.16700003e-01 -1.29600003e-01\n",
      "  9.56000015e-02 -4.74999994e-02  4.74999994e-02 -1.09999999e-02\n",
      "  6.84999973e-02  3.35000008e-02 -7.49999983e-03  2.92000007e-02\n",
      " -9.89999995e-03  2.43100002e-01  1.01199999e-01 -1.17100000e-01\n",
      "  5.24500012e-01  6.78000003e-02  3.00999992e-02 -3.59000005e-02\n",
      " -1.46000003e-02  1.41000003e-02  9.10000037e-03  6.00000028e-04\n",
      " -1.67999994e-02 -5.53000011e-02  2.00399995e-01 -3.11999992e-02\n",
      "  5.00000007e-02  1.78999994e-02 -1.20000001e-02  3.44999991e-02\n",
      "  4.80999984e-02 -1.95000004e-02  1.09000001e-02 -1.07799999e-01\n",
      "  9.39999986e-03  2.85000000e-02  9.10000037e-03 -1.79999997e-03\n",
      " -7.55999982e-02 -1.90000003e-03  5.88000007e-02 -1.61000006e-02\n",
      " -6.59999996e-03 -2.96000000e-02  7.56999999e-02  3.42999995e-02\n",
      "  1.54999997e-02  2.42999997e-02  3.99999990e-04  2.96999998e-02\n",
      " -1.60000008e-02 -1.04900002e-01 -5.57999983e-02  1.63000003e-02\n",
      " -7.14000016e-02 -2.78299987e-01  1.77699998e-01 -1.71000008e-02\n",
      "  3.02100003e-01  5.90000022e-03 -3.84000018e-02 -1.38600007e-01\n",
      "  1.03799999e-01  2.83000004e-02 -2.44800001e-01  4.21000011e-02\n",
      "  1.19000003e-02  3.09999995e-02  3.40000005e-03 -2.70000007e-03\n",
      " -2.50000004e-02 -4.28000018e-02  4.69000004e-02 -3.70000000e-03\n",
      "  2.98999995e-02  3.16700011e-01  1.90999992e-02 -5.88999987e-02\n",
      " -7.51999989e-02  3.26999985e-02 -1.41399994e-01  1.15000000e-02\n",
      " -4.60000001e-02 -7.49999983e-03 -7.27000013e-02 -4.90000006e-03\n",
      " -2.22999994e-02 -7.20999986e-02 -3.19999992e-03  4.39000018e-02\n",
      " -7.37600029e-01  2.84000002e-02  1.14000000e-01  7.54999965e-02\n",
      " -1.97300002e-01  4.17000018e-02  3.02000009e-02 -9.70000029e-03\n",
      " -8.16999972e-02  2.84000002e-02 -4.47000004e-02  9.82000008e-02\n",
      "  8.07999969e-02 -5.90999983e-02  3.90999988e-02  2.53999997e-02\n",
      "  4.08999994e-02 -7.20999986e-02  1.16499998e-01  8.66999999e-02\n",
      "  3.61000001e-02  2.16000006e-02  4.61000018e-02  2.26000007e-02\n",
      "  7.28000030e-02 -1.48000000e-02  1.34700000e-01 -1.05999999e-01\n",
      " -1.20999999e-02 -2.00000009e-03 -7.59000033e-02  4.12000008e-02\n",
      " -4.91000004e-02  8.82000029e-02 -8.82000029e-02 -9.60000046e-03]\n"
     ]
    }
   ],
   "source": [
    "print(features_embs(test_sentence, 0, 1)[0])"
   ]
  },
  {
   "cell_type": "markdown",
   "metadata": {},
   "source": [
    "# Transformation of dataset"
   ]
  },
  {
   "cell_type": "markdown",
   "metadata": {},
   "source": [
    "To transform train, dev and test sets we experiment with 3 methods:\n",
    "1. **Window** based method using pre-trained word embeddings (according to slides 38-39 of \"nlp_slides_part03_text_classification_with_mlps.pdf\").\n",
    "2. **Classical** method where for each term we create a dictionary of features depending on the sentence where the term has been extracted from. These features can be the word itself, the word before and the word after, letter suffixes and prefixes, etc.\n",
    "3. A **boosted** method which is the combination of methods 1 and 2 and seems to give the best results."
   ]
  },
  {
   "cell_type": "code",
   "execution_count": 469,
   "metadata": {},
   "outputs": [],
   "source": [
    "def vectorize(train, val, test, window=1, method='embs'):\n",
    "    \"\"\" \n",
    "    method can be one of three options:\n",
    "        'embs': window embeddings\n",
    "        'classical': dictionary of features depending on the sentence where the term has been extracted from\n",
    "        'boosted': combination of embs and classical\n",
    "    \"\"\"\n",
    "              \n",
    "    if method=='embs':\n",
    "        print('Embeddings window method')\n",
    "        print('Vectorizing Dataset...')\n",
    "        print('Vectorizing train...')\n",
    "        X_train, y_train, unk_tr = transform_to_dataset(train, window=window)\n",
    "        X_train = [x[1] for x in X_train]\n",
    "        X_train = np.asarray(X_train)\n",
    "\n",
    "        print('Vectorizing validation...')\n",
    "        X_val, y_val, unk_val = transform_to_dataset(val, window=window)\n",
    "        X_val = [x[1] for x in X_val]\n",
    "        X_val = np.asarray(X_val)        \n",
    "        \n",
    "        print('Vectorizing test...')\n",
    "        X_test, y_test, unk_te = transform_to_dataset(test, window=window)\n",
    "        X_test = [x[1] for x in X_test]\n",
    "        X_test = np.asarray(X_test)\n",
    "        \n",
    "        print('Dataset vectorized.')\n",
    "        print('Train shape:', X_train.shape)\n",
    "        print('Validation shape:', X_val.shape)\n",
    "        print('Test shape:', X_test.shape)\n",
    "        print('Found %s unknown words in train set %s unknown words in validation set and %s unknown words in test set' % (unk_tr, unk_val, unk_te))\n",
    "        return X_train, y_train, X_val, y_val, X_test, y_test\n",
    "    \n",
    "    if method=='classical':\n",
    "        print('Classical method')\n",
    "        print('Vectorizing Dataset...')\n",
    "        print('Vectorizing train...')\n",
    "        X_train, y_train, _ = transform_to_dataset(train, window=window)\n",
    "        v = DictVectorizer(sparse=True) \n",
    "        X_train = v.fit_transform([x[0] for x in X_train])\n",
    "        \n",
    "        print('Vectorizing validation...')\n",
    "        X_val, y_val, _ = transform_to_dataset(val, window=window)\n",
    "        X_val = v.transform([x[0] for x in X_val])        \n",
    "        \n",
    "        print('Vectorizing test...')\n",
    "        X_test, y_test, _ = transform_to_dataset(test, window=window)\n",
    "        X_test = v.transform([x[0] for x in X_test])\n",
    "        \n",
    "        print('Dataset vectorized.')\n",
    "        print('Train shape:', X_train.shape)\n",
    "        print('Validation shape:', X_val.shape)\n",
    "        print('Test shape:', X_test.shape)\n",
    "        X_train = X_train # Because we have sparce matrix\n",
    "        X_val = X_val # Because we have sparce matrix\n",
    "        X_test = X_test # Because we have sparce matrix\n",
    "        return X_train, y_train, X_val, y_val, X_test, y_test, v\n",
    "    \n",
    "    if method=='boosted':\n",
    "        print('Combined Classical - Embeddings window method')\n",
    "        print('Vectorizing Dataset...')\n",
    "        print('Vectorizing train...')\n",
    "        X_train, y_train, unk_tr = transform_to_dataset(train, window=window)\n",
    "        v = DictVectorizer(sparse=True) # We choose sparse=True for faster concatenation later\n",
    "        X_classical = v.fit_transform([x[0] for x in X_train])\n",
    "        X_embs = [x[1] for x in X_train]\n",
    "        X_embs = np.asarray(X_embs)\n",
    "        X_train = hstack((X_classical, X_embs))\n",
    "        del X_classical, X_embs\n",
    "        \n",
    "        print('Vectorizing validation...')\n",
    "        X_val, y_val, unk_val = transform_to_dataset(val, window=window)\n",
    "        X_classical_val = v.transform([x[0] for x in X_val])\n",
    "        X_embs_val = [x[1] for x in X_val]\n",
    "        X_embs_val = np.asarray(X_embs_val)\n",
    "        X_val = hstack((X_classical_val, X_embs_val)) # We concatenate the feature vectors        \n",
    "        \n",
    "        print('Vectorizing test...')\n",
    "        X_test, y_test, unk_te = transform_to_dataset(test, window=window)\n",
    "        X_classical_test = v.transform([x[0] for x in X_test])\n",
    "        X_embs_test = [x[1] for x in X_test]\n",
    "        X_embs_test = np.asarray(X_embs_test)\n",
    "        X_test = hstack((X_classical_test, X_embs_test)) # We concatenate the feature vectors\n",
    "        \n",
    "        print('Dataset vectorized.')\n",
    "        print('Train shape:', X_train.shape)\n",
    "        print('Validation shape:', X_val.shape)\n",
    "        print('Test shape:', X_test.shape)\n",
    "        del X_classical_test, X_embs_test\n",
    "        print('Found %s unknown words in train set %s unknown words in validation set and %s unknown words in test set' % (unk_tr, unk_val, unk_te))\n",
    "        X_train = X_train.tocsr() # Because we have sparce matrix\n",
    "        X_val = X_val.tocsr() # Because we have sparce matrix\n",
    "        X_test = X_test.tocsr() # Because we have sparce matrix\n",
    "        gc.collect()\n",
    "        return X_train, y_train, X_val, y_val, X_test, y_test, v"
   ]
  },
  {
   "cell_type": "markdown",
   "metadata": {},
   "source": [
    "# Baseline tagger"
   ]
  },
  {
   "cell_type": "markdown",
   "metadata": {},
   "source": [
    "Train and evaluate a Baseline Unigram tagger"
   ]
  },
  {
   "cell_type": "code",
   "execution_count": 571,
   "metadata": {},
   "outputs": [],
   "source": [
    "default_tagger = nltk.DefaultTagger('NN')\n",
    "unigram_tagger = nltk.UnigramTagger(train_sentences+val_sentences, backoff=default_tagger)"
   ]
  },
  {
   "cell_type": "code",
   "execution_count": 573,
   "metadata": {},
   "outputs": [],
   "source": [
    "y_train = [item for sublist in tag_sequence(train_sentences+val_sentences) for item in sublist]\n",
    "y_test = [item for sublist in tag_sequence(test_sentences) for item in sublist]\n",
    "classes = sorted(list(set(y_train)))"
   ]
  },
  {
   "cell_type": "code",
   "execution_count": 574,
   "metadata": {},
   "outputs": [],
   "source": [
    "def tag_list(tagged_sents):\n",
    "    return [tag for sent in tagged_sents for (word, tag) in sent]\n",
    "def apply_tagger(tagger, corpus):\n",
    "    return [tagger.tag(nltk.tag.untag(sent)) for sent in corpus]"
   ]
  },
  {
   "cell_type": "code",
   "execution_count": 575,
   "metadata": {},
   "outputs": [
    {
     "name": "stdout",
     "output_type": "stream",
     "text": [
      "Accuracy: 0.8600\n",
      "f1-macro score: 0.8261\n"
     ]
    }
   ],
   "source": [
    "y_pred = tag_list(apply_tagger(unigram_tagger, test_sentences))\n",
    "print(\"Accuracy: {0:.4f}\".format(unigram_tagger.evaluate(test_sentences)))\n",
    "print('f1-macro score: {0:.4f}'.format(f1_score(y_test, y_pred, average='macro')))"
   ]
  },
  {
   "cell_type": "code",
   "execution_count": 576,
   "metadata": {},
   "outputs": [
    {
     "name": "stdout",
     "output_type": "stream",
     "text": [
      "              precision    recall  f1-score   support\n",
      "\n",
      "         ADJ     0.8788    0.7768    0.8246       224\n",
      "         ADP     0.9452    0.8832    0.9131       488\n",
      "         ADV     0.9074    0.7481    0.8201       131\n",
      "         AUX     0.9286    1.0000    0.9630       234\n",
      "       CCONJ     1.0000    0.9896    0.9948        96\n",
      "         DET     0.9661    0.9749    0.9705       439\n",
      "        INTJ     1.0000    1.0000    1.0000         2\n",
      "          NN     0.0000    0.0000    0.0000         0\n",
      "        NOUN     0.9549    0.8154    0.8797       753\n",
      "         NUM     0.9649    0.9016    0.9322        61\n",
      "        PART     0.5323    1.0000    0.6947        66\n",
      "        PRON     0.9310    0.7642    0.8394       106\n",
      "       PROPN     0.8676    0.6556    0.7468        90\n",
      "       PUNCT     1.0000    1.0000    1.0000       339\n",
      "       SCONJ     0.6863    0.6863    0.6863        51\n",
      "        VERB     0.9316    0.6687    0.7786       326\n",
      "           X     1.0000    1.0000    1.0000         2\n",
      "\n",
      "   micro avg     0.8600    0.8600    0.8600      3408\n",
      "   macro avg     0.8526    0.8155    0.8261      3408\n",
      "weighted avg     0.9348    0.8600    0.8914      3408\n",
      "\n"
     ]
    }
   ],
   "source": [
    "print(classification_report(y_test, y_pred, digits=4))"
   ]
  },
  {
   "cell_type": "markdown",
   "metadata": {},
   "source": [
    "See what errors the Baseline tagger makes:"
   ]
  },
  {
   "cell_type": "code",
   "execution_count": 577,
   "metadata": {},
   "outputs": [],
   "source": [
    "def check_tagger(tagged_sentence):\n",
    "    note = ''\n",
    "    for tup in list(zip(unigram_tagger.tag(untag(tagged_sentence)),untag_pos(tagged_sentence))):\n",
    "        if tup[0][1]!=tup[1]: note='<<--- Error!'\n",
    "        print(tup[0], tup[1], note)\n",
    "        note=''"
   ]
  },
  {
   "cell_type": "code",
   "execution_count": 578,
   "metadata": {},
   "outputs": [
    {
     "name": "stdout",
     "output_type": "stream",
     "text": [
      "('any', 'DET') DET \n",
      "('use', 'NOUN') NOUN \n",
      "('of', 'ADP') ADP \n",
      "('the', 'DET') DET \n",
      "('work', 'NOUN') NOUN \n",
      "('other', 'ADJ') ADJ \n",
      "('than', 'ADP') SCONJ <<--- Error!\n",
      "('as', 'ADP') ADP \n",
      "('authorized', 'NN') VERB <<--- Error!\n",
      "('under', 'ADP') ADP \n",
      "('this', 'DET') DET \n",
      "('license', 'NOUN') NOUN \n",
      "('or', 'CCONJ') CCONJ \n",
      "('copyright', 'NOUN') NOUN \n",
      "('law', 'NOUN') NOUN \n",
      "('is', 'AUX') AUX \n",
      "('prohibited', 'VERB') VERB \n",
      "('.', 'PUNCT') PUNCT \n"
     ]
    }
   ],
   "source": [
    "check_tagger(test_sentences[1])"
   ]
  },
  {
   "cell_type": "markdown",
   "metadata": {},
   "source": [
    "It makes some mistakes!"
   ]
  },
  {
   "cell_type": "code",
   "execution_count": 579,
   "metadata": {},
   "outputs": [],
   "source": [
    "cnf_matrix = confusion_matrix(y_test, y_pred)\n",
    "name='Baseline'"
   ]
  },
  {
   "cell_type": "code",
   "execution_count": 580,
   "metadata": {},
   "outputs": [
    {
     "data": {
      "image/png": "[encoded data removed]",
      "text/plain": [
       "<Figure size 720x432 with 2 Axes>"
      ]
     },
     "metadata": {},
     "output_type": "display_data"
    }
   ],
   "source": [
    "plot_confusion_matrix(f1_score(y_test, y_pred, average='macro'), cnf_matrix, target_names=classes, title='Confusion matrix for '+name+' classifier', normalize=False)"
   ]
  },
  {
   "cell_type": "markdown",
   "metadata": {},
   "source": [
    "# Train a logistic regression model (PART A)"
   ]
  },
  {
   "cell_type": "markdown",
   "metadata": {},
   "source": [
    "First transform dataset selecting a representation method."
   ]
  },
  {
   "cell_type": "markdown",
   "metadata": {},
   "source": [
    "## Method 1"
   ]
  },
  {
   "cell_type": "code",
   "execution_count": 549,
   "metadata": {
    "scrolled": false
   },
   "outputs": [
    {
     "name": "stdout",
     "output_type": "stream",
     "text": [
      "Embeddings window method\n",
      "Vectorizing Dataset...\n",
      "Vectorizing train...\n",
      "Vectorizing validation...\n",
      "Vectorizing test...\n",
      "Dataset vectorized.\n",
      "Train shape: (43518, 900)\n",
      "Validation shape: (2722, 900)\n",
      "Test shape: (3408, 900)\n",
      "Found 1473 unknown words in train set 78 unknown words in validation set and 50 unknown words in test set\n"
     ]
    }
   ],
   "source": [
    "X_train, y_train, X_val, y_val, X_test, y_test = vectorize(train_sentences, val_sentences, test_sentences, \n",
    "                                                           window=1, method='embs')"
   ]
  },
  {
   "cell_type": "markdown",
   "metadata": {},
   "source": [
    "## Method 2"
   ]
  },
  {
   "cell_type": "code",
   "execution_count": 217,
   "metadata": {
    "scrolled": true
   },
   "outputs": [
    {
     "name": "stdout",
     "output_type": "stream",
     "text": [
      "Classical method\n",
      "Vectorizing Dataset...\n",
      "Vectorizing train...\n",
      "Vectorizing validation...\n",
      "Vectorizing test...\n",
      "Dataset vectorized.\n",
      "Train shape: (43518, 28727)\n",
      "Validation shape: (2722, 28727)\n",
      "Test shape: (3408, 28727)\n"
     ]
    }
   ],
   "source": [
    "X_train, y_train, X_val, y_val, X_test, y_test, vec = vectorize(train_sentences, val_sentences, test_sentences, method='classical')"
   ]
  },
  {
   "cell_type": "markdown",
   "metadata": {},
   "source": [
    "## Method 3"
   ]
  },
  {
   "cell_type": "code",
   "execution_count": 179,
   "metadata": {},
   "outputs": [
    {
     "name": "stdout",
     "output_type": "stream",
     "text": [
      "Combined Classical - Embeddings window method\n",
      "Vectorizing Dataset...\n",
      "Vectorizing train...\n",
      "Vectorizing validation...\n",
      "Vectorizing test...\n",
      "Dataset vectorized.\n",
      "Train shape: (43518, 30227)\n",
      "Validation shape: (2722, 30227)\n",
      "Test shape: (3408, 30227)\n",
      "Found 2391 unknown words in train set 123 unknown words in validation set and 79 unknown words in test set\n"
     ]
    }
   ],
   "source": [
    "X_train, y_train, X_val, y_val, X_test, y_test, vec = vectorize(train_sentences, val_sentences, test_sentences, window=2, method='boosted')"
   ]
  },
  {
   "cell_type": "markdown",
   "metadata": {},
   "source": [
    "## Hyper parameter tuning"
   ]
  },
  {
   "cell_type": "markdown",
   "metadata": {},
   "source": [
    "Because we will use cross-validation, we can use the full train set (train + validation)"
   ]
  },
  {
   "cell_type": "code",
   "execution_count": 550,
   "metadata": {},
   "outputs": [],
   "source": [
    "X_train = vstack((X_train, X_val))\n",
    "y_train = np.append(y_train, y_val, axis=0)"
   ]
  },
  {
   "cell_type": "code",
   "execution_count": 551,
   "metadata": {},
   "outputs": [
    {
     "data": {
      "text/plain": [
       "(46240, 900)"
      ]
     },
     "execution_count": 551,
     "metadata": {},
     "output_type": "execute_result"
    }
   ],
   "source": [
    "X_train.shape"
   ]
  },
  {
   "cell_type": "code",
   "execution_count": 552,
   "metadata": {},
   "outputs": [
    {
     "data": {
      "text/plain": [
       "(46240,)"
      ]
     },
     "execution_count": 552,
     "metadata": {},
     "output_type": "execute_result"
    }
   ],
   "source": [
    "y_train.shape"
   ]
  },
  {
   "cell_type": "code",
   "execution_count": 38,
   "metadata": {},
   "outputs": [],
   "source": [
    "def hyper_tuning(train, test, y_train, y_test, scores, estimator, parameters, cv):\n",
    "    print(\"# Estimator:\",estimator)\n",
    "    for score in scores:\n",
    "        print(\"# Tuning hyper-parameters for %s\" % score)        \n",
    "        clf = GridSearchCV(estimator, parameters, cv=cv, scoring='%s' % score)\n",
    "        clf.fit(train, y_train)\n",
    "        print(\"Best parameters set found on development set:\")\n",
    "        print(clf.best_params_)\n",
    "        print()\n",
    "        print(\"Grid scores on development set:\")\n",
    "        means = clf.cv_results_['mean_test_score']\n",
    "        stds = clf.cv_results_['std_test_score']\n",
    "        for mean, std, params in zip(means, stds, clf.cv_results_['params']):\n",
    "            print(\"%0.3f (+/-%0.03f) for %r\" % (mean, std * 2, params))\n",
    "        print()\n",
    "        print(\"Detailed classification report:\")\n",
    "        print(\"The model is trained on the full development set.\")\n",
    "        print(\"The scores are computed on the full evaluation set.\")\n",
    "        y_pred = clf.predict(test)\n",
    "        print(classification_report(y_test, y_pred, digits=4))\n",
    "        print('Accuracy: {0:0.4f}   f1-score: {1:0.4f} \\n'.format(accuracy_score(y_test, y_pred), f1_score(y_test, y_pred, average='macro')))\n",
    "    return clf"
   ]
  },
  {
   "cell_type": "code",
   "execution_count": 40,
   "metadata": {},
   "outputs": [
    {
     "name": "stdout",
     "output_type": "stream",
     "text": [
      "# Estimator: LogisticRegression(C=1.0, class_weight=None, dual=False, fit_intercept=True,\n",
      "          intercept_scaling=1, max_iter=100, multi_class='auto',\n",
      "          n_jobs=None, penalty='l2', random_state=13, solver='liblinear',\n",
      "          tol=0.0001, verbose=0, warm_start=False)\n",
      "# Tuning hyper-parameters for accuracy\n"
     ]
    },
    {
     "name": "stderr",
     "output_type": "stream",
     "text": [
      "c:\\program files\\python36\\lib\\site-packages\\sklearn\\model_selection\\_split.py:652: Warning: The least populated class in y has only 2 members, which is too few. The minimum number of members in any class cannot be less than n_splits=5.\n",
      "  % (min_groups, self.n_splits)), Warning)\n",
      "c:\\program files\\python36\\lib\\site-packages\\sklearn\\model_selection\\_search.py:841: DeprecationWarning: The default of the `iid` parameter will change from True to False in version 0.22 and will be removed in 0.24. This will change numeric results when test-set sizes are unequal.\n",
      "  DeprecationWarning)\n"
     ]
    },
    {
     "name": "stdout",
     "output_type": "stream",
     "text": [
      "Best parameters set found on development set:\n",
      "{'C': 1}\n",
      "\n",
      "Grid scores on development set:\n",
      "0.766 (+/-0.084) for {'C': 0.1}\n",
      "0.886 (+/-0.065) for {'C': 1}\n",
      "0.886 (+/-0.051) for {'C': 2}\n",
      "0.886 (+/-0.045) for {'C': 3}\n",
      "\n",
      "Detailed classification report:\n",
      "The model is trained on the full development set.\n",
      "The scores are computed on the full evaluation set.\n",
      "              precision    recall  f1-score   support\n",
      "\n",
      "         ADJ     0.0000    0.0000    0.0000         1\n",
      "         ADP     0.8889    1.0000    0.9412         8\n",
      "         ADV     1.0000    1.0000    1.0000         1\n",
      "         AUX     0.5000    1.0000    0.6667         1\n",
      "       CCONJ     0.7500    1.0000    0.8571         3\n",
      "         DET     1.0000    1.0000    1.0000         7\n",
      "        NOUN     0.8667    1.0000    0.9286        13\n",
      "         NUM     0.0000    0.0000    0.0000         1\n",
      "       PROPN     1.0000    1.0000    1.0000         1\n",
      "       PUNCT     1.0000    1.0000    1.0000         5\n",
      "       SCONJ     0.0000    0.0000    0.0000         2\n",
      "        VERB     1.0000    0.8571    0.9231         7\n",
      "\n",
      "   micro avg     0.9000    0.9000    0.9000        50\n",
      "   macro avg     0.6671    0.7381    0.6931        50\n",
      "weighted avg     0.8426    0.9000    0.8660        50\n",
      "\n",
      "Accuracy: 0.9000   f1-score: 0.6931 \n",
      "\n",
      "# Tuning hyper-parameters for f1_macro\n"
     ]
    },
    {
     "name": "stderr",
     "output_type": "stream",
     "text": [
      "c:\\program files\\python36\\lib\\site-packages\\sklearn\\model_selection\\_split.py:652: Warning: The least populated class in y has only 2 members, which is too few. The minimum number of members in any class cannot be less than n_splits=5.\n",
      "  % (min_groups, self.n_splits)), Warning)\n",
      "c:\\program files\\python36\\lib\\site-packages\\sklearn\\model_selection\\_search.py:841: DeprecationWarning: The default of the `iid` parameter will change from True to False in version 0.22 and will be removed in 0.24. This will change numeric results when test-set sizes are unequal.\n",
      "  DeprecationWarning)\n"
     ]
    },
    {
     "name": "stdout",
     "output_type": "stream",
     "text": [
      "Best parameters set found on development set:\n",
      "{'C': 3}\n",
      "\n",
      "Grid scores on development set:\n",
      "0.517 (+/-0.134) for {'C': 0.1}\n",
      "0.753 (+/-0.132) for {'C': 1}\n",
      "0.753 (+/-0.112) for {'C': 2}\n",
      "0.765 (+/-0.091) for {'C': 3}\n",
      "\n",
      "Detailed classification report:\n",
      "The model is trained on the full development set.\n",
      "The scores are computed on the full evaluation set.\n",
      "              precision    recall  f1-score   support\n",
      "\n",
      "         ADJ     1.0000    1.0000    1.0000         1\n",
      "         ADP     1.0000    1.0000    1.0000         8\n",
      "         ADV     1.0000    1.0000    1.0000         1\n",
      "         AUX     1.0000    1.0000    1.0000         1\n",
      "       CCONJ     0.7500    1.0000    0.8571         3\n",
      "         DET     1.0000    1.0000    1.0000         7\n",
      "        NOUN     0.8667    1.0000    0.9286        13\n",
      "         NUM     0.0000    0.0000    0.0000         1\n",
      "       PROPN     1.0000    1.0000    1.0000         1\n",
      "       PUNCT     1.0000    1.0000    1.0000         5\n",
      "       SCONJ     0.0000    0.0000    0.0000         2\n",
      "        VERB     1.0000    1.0000    1.0000         7\n",
      "\n",
      "   micro avg     0.9400    0.9400    0.9400        50\n",
      "   macro avg     0.8014    0.8333    0.8155        50\n",
      "weighted avg     0.8903    0.9400    0.9129        50\n",
      "\n",
      "Accuracy: 0.9400   f1-score: 0.8155 \n",
      "\n"
     ]
    }
   ],
   "source": [
    "logregr = LogisticRegression(solver='liblinear', multi_class='auto', random_state=13)\n",
    "# Cross validation strategy\n",
    "skf = StratifiedKFold(n_splits=5, random_state=1)\n",
    "# Scores could also be ['precision', 'recall', ....]\n",
    "scores = ['accuracy', 'f1_macro']\n",
    "\n",
    "params = [{'C': [0.1, 1, 2, 3]}]\n",
    "#logregr = hyper_tuning(X_train, X_test, y_train, y_test, scores, logregr, params, skf)\n",
    "#You may want to comment previous line and comment-out next lines to see how hyper-tuning works and dont wait too much time...\n",
    "skf = StratifiedKFold(n_splits=5, random_state=1)\n",
    "logregr = hyper_tuning(X_train[:500], X_test[:50], y_train[:500], y_test[:50], scores, logregr, params, skf)"
   ]
  },
  {
   "cell_type": "markdown",
   "metadata": {},
   "source": [
    "## Training"
   ]
  },
  {
   "cell_type": "code",
   "execution_count": 553,
   "metadata": {},
   "outputs": [
    {
     "name": "stdout",
     "output_type": "stream",
     "text": [
      "Training...\n",
      "Training completed in 124.275567 seconds\n"
     ]
    }
   ],
   "source": [
    "t_ini = datetime.datetime.now()\n",
    "print('Training...')\n",
    "clf = LogisticRegression(C=1, solver='liblinear', multi_class='auto', random_state=13)\n",
    "clf.fit(X_train, y_train)\n",
    "t_fin = datetime.datetime.now()\n",
    "print('Training completed in {} seconds'.format((t_fin - t_ini).total_seconds()))"
   ]
  },
  {
   "cell_type": "markdown",
   "metadata": {},
   "source": [
    "# Evaluation"
   ]
  },
  {
   "cell_type": "code",
   "execution_count": 554,
   "metadata": {},
   "outputs": [],
   "source": [
    "y_pred = clf.predict(X_test)"
   ]
  },
  {
   "cell_type": "code",
   "execution_count": 555,
   "metadata": {},
   "outputs": [
    {
     "name": "stdout",
     "output_type": "stream",
     "text": [
      "Accuracy: 0.9542\n",
      "f1-macro score: 0.8790\n"
     ]
    }
   ],
   "source": [
    "print(\"Accuracy: {0:.4f}\".format(clf.score(X_test, y_test)))\n",
    "print('f1-macro score: {0:.4f}'.format(f1_score(y_test, y_pred, average='macro')))"
   ]
  },
  {
   "cell_type": "markdown",
   "metadata": {},
   "source": [
    "## Classification report"
   ]
  },
  {
   "cell_type": "code",
   "execution_count": 44,
   "metadata": {},
   "outputs": [
    {
     "name": "stdout",
     "output_type": "stream",
     "text": [
      "              precision    recall  f1-score   support\n",
      "\n",
      "         ADJ     0.8643    0.8527    0.8584       224\n",
      "         ADP     0.9509    0.9918    0.9709       488\n",
      "         ADV     0.9076    0.8244    0.8640       131\n",
      "         AUX     0.9748    0.9915    0.9831       234\n",
      "       CCONJ     1.0000    0.9896    0.9948        96\n",
      "         DET     0.9909    0.9886    0.9897       439\n",
      "        INTJ     0.0000    0.0000    0.0000         2\n",
      "        NOUN     0.9605    0.9681    0.9643       753\n",
      "         NUM     0.9836    0.9836    0.9836        61\n",
      "        PART     0.9552    0.9697    0.9624        66\n",
      "        PRON     0.9245    0.9245    0.9245       106\n",
      "       PROPN     0.9024    0.8222    0.8605        90\n",
      "       PUNCT     0.9971    1.0000    0.9985       339\n",
      "       SCONJ     0.8571    0.7059    0.7742        51\n",
      "        VERB     0.9301    0.9387    0.9344       326\n",
      "           X     1.0000    1.0000    1.0000         2\n",
      "\n",
      "   micro avg     0.9542    0.9542    0.9542      3408\n",
      "   macro avg     0.8874    0.8720    0.8790      3408\n",
      "weighted avg     0.9531    0.9542    0.9533      3408\n",
      "\n"
     ]
    }
   ],
   "source": [
    "print(classification_report(y_test, clf.predict(X_test), digits=4))"
   ]
  },
  {
   "cell_type": "markdown",
   "metadata": {},
   "source": [
    "## Frequent types of mistakes"
   ]
  },
  {
   "cell_type": "code",
   "execution_count": 28,
   "metadata": {},
   "outputs": [
    {
     "name": "stdout",
     "output_type": "stream",
     "text": [
      "Accuracy: 0.9542\n",
      "Total errors/Total words: 156/3408\n",
      "\n",
      "Most common errors: [('as', 13), ('to', 6), ('that', 6), ('appointed', 5), ('part', 3), ('national', 3), ('justice', 3), ('general', 3), ('is', 2), ('yes', 2), ('further', 2), ('contracting', 2), ('subject', 2), ('bulgarian', 2), ('romanian', 2), ('thereto', 2), ('no', 2), ('longer', 2), ('base', 2), ('than', 1)]\n"
     ]
    }
   ],
   "source": [
    "import collections\n",
    "k=0\n",
    "i2w = id2word(test_sentences)\n",
    "error_counter = collections.Counter()\n",
    "for i in range(X_test.shape[0]):\n",
    "    correct_tag_id = y_test\n",
    "    if y_pred[i]!=y_test[i]:\n",
    "        k += 1\n",
    "        word = i2w[i]\n",
    "        error_counter[word] += 1\n",
    "print('Accuracy: {0:.4f}'.format((len(i2w)-k)/len(i2w)))\n",
    "print('Total errors/Total words: {}/{}\\n'.format(k,len(i2w)))\n",
    "print('Most common errors:',error_counter.most_common(20))"
   ]
  },
  {
   "cell_type": "markdown",
   "metadata": {},
   "source": [
    "## Learning curves"
   ]
  },
  {
   "cell_type": "code",
   "execution_count": 46,
   "metadata": {},
   "outputs": [
    {
     "data": {
      "text/plain": [
       "<module 'matplotlib.pyplot' from 'c:\\\\program files\\\\python36\\\\lib\\\\site-packages\\\\matplotlib\\\\pyplot.py'>"
      ]
     },
     "execution_count": 46,
     "metadata": {},
     "output_type": "execute_result"
    },
    {
     "data": {
      "image/png": "[encoded data removed]",
      "text/plain": [
       "<Figure size 432x288 with 1 Axes>"
      ]
     },
     "metadata": {},
     "output_type": "display_data"
    }
   ],
   "source": [
    "plot_learning_curve(clf, 'Logistic Regression', X_train, y_train, ylim=(0.7, 1.01), cv=5)"
   ]
  },
  {
   "cell_type": "markdown",
   "metadata": {},
   "source": [
    "## Confusion matrix"
   ]
  },
  {
   "cell_type": "code",
   "execution_count": 581,
   "metadata": {},
   "outputs": [
    {
     "data": {
      "image/png": "[encoded data removed]",
      "text/plain": [
       "<Figure size 720x432 with 2 Axes>"
      ]
     },
     "metadata": {},
     "output_type": "display_data"
    }
   ],
   "source": [
    "y_pred = clf.predict(X_test)\n",
    "f1 = f1_score(y_test, y_pred, average='macro')\n",
    "cnf_matrix = confusion_matrix(y_test, y_pred)\n",
    "name='Logistic Regression'\n",
    "plot_confusion_matrix(f1, cnf_matrix, target_names=classes, title='Confusion matrix for '+name+' classifier', normalize=False)"
   ]
  },
  {
   "cell_type": "markdown",
   "metadata": {},
   "source": [
    "## Tag an uknown sentence"
   ]
  },
  {
   "cell_type": "markdown",
   "metadata": {},
   "source": [
    "Lets try the predicting power of our trained tagger:"
   ]
  },
  {
   "cell_type": "code",
   "execution_count": 48,
   "metadata": {},
   "outputs": [],
   "source": [
    "test_sentence = nltk.word_tokenize('Word embeddings provide a dense representation of words and their relative meanings.'.lower())"
   ]
  },
  {
   "cell_type": "code",
   "execution_count": 49,
   "metadata": {},
   "outputs": [],
   "source": [
    "X_test_sentence = transform_test_sentence(test_sentence, window=1)"
   ]
  },
  {
   "cell_type": "code",
   "execution_count": 50,
   "metadata": {},
   "outputs": [],
   "source": [
    "#X_classical = vec.transform([x[0] for x in X_test_sentence])\n",
    "X_embs = [x[1][0] for x in X_test_sentence]\n",
    "X_embs = np.asarray(X_embs)\n",
    "#X_test_sentence = np.concatenate((X_classical, X_embs), axis=1)\n",
    "X_test_sentence = X_embs"
   ]
  },
  {
   "cell_type": "code",
   "execution_count": 51,
   "metadata": {},
   "outputs": [
    {
     "data": {
      "text/plain": [
       "(13, 900)"
      ]
     },
     "execution_count": 51,
     "metadata": {},
     "output_type": "execute_result"
    }
   ],
   "source": [
    "X_test_sentence.shape"
   ]
  },
  {
   "cell_type": "code",
   "execution_count": 52,
   "metadata": {},
   "outputs": [],
   "source": [
    "pred = clf.predict(X_test_sentence)"
   ]
  },
  {
   "cell_type": "code",
   "execution_count": 53,
   "metadata": {},
   "outputs": [
    {
     "name": "stdout",
     "output_type": "stream",
     "text": [
      "Here is what our LR tagger predicts for the test sentence:\n",
      " [('word', 'NOUN'), ('embeddings', 'NOUN'), ('provide', 'VERB'), ('a', 'DET'), ('dense', 'ADJ'), ('representation', 'NOUN'), ('of', 'ADP'), ('words', 'NOUN'), ('and', 'CCONJ'), ('their', 'DET'), ('relative', 'ADJ'), ('meanings', 'NOUN'), ('.', 'PUNCT')]\n"
     ]
    }
   ],
   "source": [
    "print('Here is what our LR tagger predicts for the test sentence:\\n',list(zip(test_sentence, pred)))"
   ]
  },
  {
   "cell_type": "markdown",
   "metadata": {},
   "source": [
    "LR Tagger works nice!"
   ]
  },
  {
   "cell_type": "markdown",
   "metadata": {},
   "source": [
    "==========================================================================="
   ]
  },
  {
   "cell_type": "markdown",
   "metadata": {},
   "source": [
    "# Train a feed-forward Neural Network model (PART B)"
   ]
  },
  {
   "cell_type": "markdown",
   "metadata": {},
   "source": [
    "## Method 1"
   ]
  },
  {
   "cell_type": "code",
   "execution_count": 566,
   "metadata": {
    "scrolled": false
   },
   "outputs": [
    {
     "name": "stdout",
     "output_type": "stream",
     "text": [
      "Embeddings window method\n",
      "Vectorizing Dataset...\n",
      "Vectorizing train...\n",
      "Vectorizing validation...\n",
      "Vectorizing test...\n",
      "Dataset vectorized.\n",
      "Train shape: (43518, 900)\n",
      "Validation shape: (2722, 900)\n",
      "Test shape: (3408, 900)\n",
      "Found 1473 unknown words in train set 78 unknown words in validation set and 50 unknown words in test set\n"
     ]
    }
   ],
   "source": [
    "X_train, y_train, X_val, y_val, X_test, y_test = vectorize(train_sentences, val_sentences, test_sentences, window=1, method='embs')"
   ]
  },
  {
   "cell_type": "markdown",
   "metadata": {},
   "source": [
    "## Method 2"
   ]
  },
  {
   "cell_type": "code",
   "execution_count": 480,
   "metadata": {
    "scrolled": true
   },
   "outputs": [
    {
     "name": "stdout",
     "output_type": "stream",
     "text": [
      "Classical method\n",
      "Vectorizing Dataset...\n",
      "Vectorizing train...\n",
      "Vectorizing validation...\n",
      "Vectorizing test...\n",
      "Dataset vectorized.\n",
      "Train shape: (43518, 28727)\n",
      "Validation shape: (2722, 28727)\n",
      "Test shape: (3408, 28727)\n"
     ]
    }
   ],
   "source": [
    "X_train, y_train, X_val, y_val, X_test, y_test, vec = vectorize(train_sentences, val_sentences, test_sentences, method='classical')"
   ]
  },
  {
   "cell_type": "markdown",
   "metadata": {},
   "source": [
    "## Method 3"
   ]
  },
  {
   "cell_type": "code",
   "execution_count": 497,
   "metadata": {},
   "outputs": [
    {
     "name": "stdout",
     "output_type": "stream",
     "text": [
      "Combined Classical - Embeddings window method\n",
      "Vectorizing Dataset...\n",
      "Vectorizing train...\n",
      "Vectorizing validation...\n",
      "Vectorizing test...\n",
      "Dataset vectorized.\n",
      "Train shape: (43518, 30227)\n",
      "Validation shape: (2722, 30227)\n",
      "Test shape: (3408, 30227)\n",
      "Found 2391 unknown words in train set 123 unknown words in validation set and 79 unknown words in test set\n"
     ]
    }
   ],
   "source": [
    "X_train, y_train, X_val, y_val, X_test, y_test, vec = vectorize(train_sentences, val_sentences, test_sentences, window=2, method='boosted')"
   ]
  },
  {
   "cell_type": "markdown",
   "metadata": {},
   "source": [
    "## One-hot encoding of labels"
   ]
  },
  {
   "cell_type": "code",
   "execution_count": 567,
   "metadata": {},
   "outputs": [],
   "source": [
    "classes = sorted(list(set(y_train)))"
   ]
  },
  {
   "cell_type": "code",
   "execution_count": 568,
   "metadata": {},
   "outputs": [
    {
     "name": "stdout",
     "output_type": "stream",
     "text": [
      "(43518, 17)\n"
     ]
    }
   ],
   "source": [
    "le = preprocessing.LabelEncoder()\n",
    "y_train = le.fit_transform(y_train)\n",
    "y_val = le.transform(y_val)\n",
    "y_test = le.transform(y_test)\n",
    "y_train = keras.utils.to_categorical(y_train)\n",
    "y_val = keras.utils.to_categorical(y_val)\n",
    "y_test = keras.utils.to_categorical(y_test)\n",
    "\n",
    "print(y_train.shape)"
   ]
  },
  {
   "cell_type": "code",
   "execution_count": 525,
   "metadata": {},
   "outputs": [],
   "source": [
    "# Class to compute f1, precision and recall after each epoch\n",
    "from keras.callbacks import Callback\n",
    "\n",
    "class mymetrics(Callback):\n",
    "    def on_train_begin(self, logs={}):\n",
    "        self.val_f1s = []\n",
    "        self.val_recalls = []\n",
    "        self.val_precisions = []\n",
    "        \n",
    "    def on_epoch_end(self, epoch, logs={}):\n",
    "        val_predict = (np.asarray(self.model.predict(self.validation_data[0]))).round()\n",
    "        val_targ = self.validation_data[1]\n",
    "        #y_test.argmax(axis=1), y_pred.argmax(axis=1)\n",
    "        \n",
    "        val_targ=val_targ.argmax(axis=1)\n",
    "        val_predict=val_predict.argmax(axis=1)\n",
    "        \n",
    "        _val_f1 = f1_score(val_targ, val_predict, average='macro')\n",
    "        _val_recall = recall_score(val_targ, val_predict, average='macro')\n",
    "        _val_precision = precision_score(val_targ, val_predict, average='macro')\n",
    "        self.val_f1s.append(_val_f1)\n",
    "        self.val_recalls.append(_val_recall)\n",
    "        self.val_precisions.append(_val_precision)\n",
    "        print(' — val_precision: %f — val_recall: %f — val_f1 %f' %(_val_precision, _val_recall, _val_f1))\n",
    "        return"
   ]
  },
  {
   "cell_type": "code",
   "execution_count": 526,
   "metadata": {},
   "outputs": [],
   "source": [
    "mymetrics = mymetrics()"
   ]
  },
  {
   "cell_type": "markdown",
   "metadata": {},
   "source": [
    "## Model building"
   ]
  },
  {
   "cell_type": "code",
   "execution_count": 527,
   "metadata": {},
   "outputs": [
    {
     "name": "stdout",
     "output_type": "stream",
     "text": [
      "_________________________________________________________________\n",
      "Layer (type)                 Output Shape              Param #   \n",
      "=================================================================\n",
      "dense_178 (Dense)            (None, 200)               180200    \n",
      "_________________________________________________________________\n",
      "dropout_119 (Dropout)        (None, 200)               0         \n",
      "_________________________________________________________________\n",
      "dense_179 (Dense)            (None, 64)                12864     \n",
      "_________________________________________________________________\n",
      "dropout_120 (Dropout)        (None, 64)                0         \n",
      "_________________________________________________________________\n",
      "dense_180 (Dense)            (None, 17)                1105      \n",
      "=================================================================\n",
      "Total params: 194,169\n",
      "Trainable params: 194,169\n",
      "Non-trainable params: 0\n",
      "_________________________________________________________________\n"
     ]
    }
   ],
   "source": [
    "model = Sequential()\n",
    "# Dense(200) is a fully-connected layer with 200 hidden units.\n",
    "# In the first layer, we specify the input data shape\n",
    "\n",
    "model.add(Dense(200, activation='relu', input_dim=X_train.shape[1]))\n",
    "model.add(Dropout(0.5))\n",
    "model.add(Dense(64, activation='relu'))\n",
    "model.add(Dropout(0.4))\n",
    "model.add(Dense(y_train.shape[1], activation='softmax'))\n",
    "\n",
    "model.compile(optimizer='adam', loss='categorical_crossentropy', metrics=['accuracy'])\n",
    "model.summary()"
   ]
  },
  {
   "cell_type": "markdown",
   "metadata": {},
   "source": [
    "## Model tuning"
   ]
  },
  {
   "cell_type": "code",
   "execution_count": 528,
   "metadata": {},
   "outputs": [
    {
     "name": "stdout",
     "output_type": "stream",
     "text": [
      "Train on 43518 samples, validate on 2722 samples\n",
      "Epoch 1/30\n",
      "43518/43518 [==============================] - 5s 126us/step - loss: 0.8928 - acc: 0.7464 - val_loss: 0.2944 - val_acc: 0.9093\n",
      "\n",
      "Epoch 00001: val_acc improved from -inf to 0.90926, saving model to tagger.h5\n",
      " — val_precision: 0.789818 — val_recall: 0.721795 — val_f1 0.741490\n",
      "Epoch 2/30\n",
      "43518/43518 [==============================] - 4s 87us/step - loss: 0.3120 - acc: 0.9143 - val_loss: 0.2252 - val_acc: 0.9328\n",
      "\n",
      "Epoch 00002: val_acc improved from 0.90926 to 0.93277, saving model to tagger.h5\n",
      " — val_precision: 0.807499 — val_recall: 0.795365 — val_f1 0.799671\n",
      "Epoch 3/30\n",
      "43518/43518 [==============================] - 4s 94us/step - loss: 0.2370 - acc: 0.9335 - val_loss: 0.2065 - val_acc: 0.9368\n",
      "\n",
      "Epoch 00003: val_acc improved from 0.93277 to 0.93681, saving model to tagger.h5\n",
      " — val_precision: 0.870046 — val_recall: 0.837734 — val_f1 0.847648\n",
      "Epoch 4/30\n",
      "43518/43518 [==============================] - 4s 89us/step - loss: 0.1980 - acc: 0.9460 - val_loss: 0.1967 - val_acc: 0.9401\n",
      "\n",
      "Epoch 00004: val_acc improved from 0.93681 to 0.94012, saving model to tagger.h5\n",
      " — val_precision: 0.916062 — val_recall: 0.879566 — val_f1 0.886963\n",
      "Epoch 5/30\n",
      "43518/43518 [==============================] - 6s 138us/step - loss: 0.1755 - acc: 0.9518 - val_loss: 0.1974 - val_acc: 0.9401\n",
      "\n",
      "Epoch 00005: val_acc did not improve from 0.94012\n",
      " — val_precision: 0.939326 — val_recall: 0.886078 — val_f1 0.897169\n",
      "Epoch 6/30\n",
      "43518/43518 [==============================] - 7s 166us/step - loss: 0.1575 - acc: 0.9548 - val_loss: 0.1995 - val_acc: 0.9431\n",
      "\n",
      "Epoch 00006: val_acc improved from 0.94012 to 0.94306, saving model to tagger.h5\n",
      " — val_precision: 0.928939 — val_recall: 0.905175 — val_f1 0.911082\n",
      "Epoch 7/30\n",
      "43518/43518 [==============================] - 7s 151us/step - loss: 0.1438 - acc: 0.9582 - val_loss: 0.1988 - val_acc: 0.9420\n",
      "\n",
      "Epoch 00007: val_acc did not improve from 0.94306\n",
      " — val_precision: 0.927505 — val_recall: 0.896390 — val_f1 0.906335\n",
      "Epoch 8/30\n",
      "43518/43518 [==============================] - 6s 134us/step - loss: 0.1346 - acc: 0.9614 - val_loss: 0.2050 - val_acc: 0.9409\n",
      "\n",
      "Epoch 00008: val_acc did not improve from 0.94306\n",
      " — val_precision: 0.920952 — val_recall: 0.898668 — val_f1 0.904150\n",
      "Epoch 9/30\n",
      "43518/43518 [==============================] - 5s 106us/step - loss: 0.1231 - acc: 0.9645 - val_loss: 0.2040 - val_acc: 0.9453\n",
      "\n",
      "Epoch 00009: val_acc improved from 0.94306 to 0.94526, saving model to tagger.h5\n",
      " — val_precision: 0.930688 — val_recall: 0.904641 — val_f1 0.912061\n",
      "Epoch 10/30\n",
      "43518/43518 [==============================] - 5s 111us/step - loss: 0.1140 - acc: 0.9670 - val_loss: 0.2111 - val_acc: 0.9449\n",
      "\n",
      "Epoch 00010: val_acc did not improve from 0.94526\n",
      " — val_precision: 0.931039 — val_recall: 0.899026 — val_f1 0.909611\n",
      "Epoch 11/30\n",
      "43518/43518 [==============================] - 5s 111us/step - loss: 0.1061 - acc: 0.9680 - val_loss: 0.2150 - val_acc: 0.9471\n",
      "\n",
      "Epoch 00011: val_acc improved from 0.94526 to 0.94710, saving model to tagger.h5\n",
      " — val_precision: 0.936462 — val_recall: 0.908435 — val_f1 0.916954\n",
      "Epoch 12/30\n",
      "43518/43518 [==============================] - 4s 103us/step - loss: 0.1025 - acc: 0.9700 - val_loss: 0.2176 - val_acc: 0.9460\n",
      "\n",
      "Epoch 00012: val_acc did not improve from 0.94710\n",
      " — val_precision: 0.930960 — val_recall: 0.895074 — val_f1 0.905841\n",
      "Epoch 13/30\n",
      "43518/43518 [==============================] - 5s 110us/step - loss: 0.0962 - acc: 0.9714 - val_loss: 0.2156 - val_acc: 0.9453\n",
      "\n",
      "Epoch 00013: val_acc did not improve from 0.94710\n",
      " — val_precision: 0.934299 — val_recall: 0.901119 — val_f1 0.912213\n",
      "Epoch 14/30\n",
      "43518/43518 [==============================] - 6s 131us/step - loss: 0.0908 - acc: 0.9728 - val_loss: 0.2206 - val_acc: 0.9445\n",
      "\n",
      "Epoch 00014: val_acc did not improve from 0.94710\n",
      " — val_precision: 0.933100 — val_recall: 0.906209 — val_f1 0.915664\n",
      "Epoch 15/30\n",
      "43518/43518 [==============================] - 4s 100us/step - loss: 0.0845 - acc: 0.9741 - val_loss: 0.2388 - val_acc: 0.9390\n",
      "\n",
      "Epoch 00015: val_acc did not improve from 0.94710\n",
      " — val_precision: 0.934060 — val_recall: 0.902400 — val_f1 0.911552\n",
      "Epoch 16/30\n",
      "43518/43518 [==============================] - 4s 94us/step - loss: 0.0809 - acc: 0.9760 - val_loss: 0.2360 - val_acc: 0.9438\n",
      "\n",
      "Epoch 00016: val_acc did not improve from 0.94710\n",
      " — val_precision: 0.928129 — val_recall: 0.909875 — val_f1 0.914509\n",
      "Training completed in 98.231578 seconds\n"
     ]
    }
   ],
   "source": [
    "nb_epoch = 30\n",
    "batch_size = 128\n",
    "\n",
    "t_ini = datetime.datetime.now()\n",
    "\n",
    "cp = ModelCheckpoint(filepath=\"tagger.h5\",\n",
    "                     monitor='val_acc',\n",
    "                     save_best_only=True,\n",
    "                     verbose=1)\n",
    "\n",
    "tb = TensorBoard(log_dir='./logs',\n",
    "                histogram_freq=0,\n",
    "                write_graph=True,\n",
    "                write_images=True)\n",
    "\n",
    "early_stopping = EarlyStopping(monitor = 'val_acc', patience = 5)\n",
    "\n",
    "history = model.fit(X_train, y_train,\n",
    "                    epochs=nb_epoch,\n",
    "                    batch_size=batch_size,\n",
    "                    shuffle=True,\n",
    "                    validation_data=(X_val, y_val),\n",
    "                    verbose=1,\n",
    "                    callbacks=[cp, tb, early_stopping, mymetrics]) \n",
    "\n",
    "t_fin = datetime.datetime.now()\n",
    "print('Training completed in {} seconds'.format((t_fin - t_ini).total_seconds()))"
   ]
  },
  {
   "cell_type": "markdown",
   "metadata": {},
   "source": [
    "## Model fitting"
   ]
  },
  {
   "cell_type": "markdown",
   "metadata": {},
   "source": [
    "First we find the index of best epoch in epoch list and train for index+1 epochs."
   ]
  },
  {
   "cell_type": "code",
   "execution_count": 529,
   "metadata": {},
   "outputs": [
    {
     "name": "stdout",
     "output_type": "stream",
     "text": [
      "Best epoch index: 10\n"
     ]
    }
   ],
   "source": [
    "best_epoch = history.history['val_acc'].index(max(history.history['val_acc']))\n",
    "print('Best epoch index:', best_epoch)"
   ]
  },
  {
   "cell_type": "markdown",
   "metadata": {},
   "source": [
    "We use the full train set (train + validation)"
   ]
  },
  {
   "cell_type": "code",
   "execution_count": 530,
   "metadata": {},
   "outputs": [
    {
     "name": "stdout",
     "output_type": "stream",
     "text": [
      "(43518, 900)\n",
      "(2722, 900)\n",
      "(43518, 17)\n",
      "(2722, 17)\n"
     ]
    }
   ],
   "source": [
    "print(X_train.shape)\n",
    "print(X_val.shape)\n",
    "print(y_train.shape)\n",
    "print(y_val.shape)"
   ]
  },
  {
   "cell_type": "code",
   "execution_count": 531,
   "metadata": {},
   "outputs": [],
   "source": [
    "X_train = vstack((X_train, X_val)).tocsr()\n",
    "y_train = np.append(y_train, y_val, axis=0)"
   ]
  },
  {
   "cell_type": "markdown",
   "metadata": {},
   "source": [
    "Re-instatiate the model"
   ]
  },
  {
   "cell_type": "code",
   "execution_count": 532,
   "metadata": {},
   "outputs": [
    {
     "name": "stdout",
     "output_type": "stream",
     "text": [
      "_________________________________________________________________\n",
      "Layer (type)                 Output Shape              Param #   \n",
      "=================================================================\n",
      "dense_181 (Dense)            (None, 200)               180200    \n",
      "_________________________________________________________________\n",
      "dropout_121 (Dropout)        (None, 200)               0         \n",
      "_________________________________________________________________\n",
      "dense_182 (Dense)            (None, 64)                12864     \n",
      "_________________________________________________________________\n",
      "dropout_122 (Dropout)        (None, 64)                0         \n",
      "_________________________________________________________________\n",
      "dense_183 (Dense)            (None, 17)                1105      \n",
      "=================================================================\n",
      "Total params: 194,169\n",
      "Trainable params: 194,169\n",
      "Non-trainable params: 0\n",
      "_________________________________________________________________\n"
     ]
    }
   ],
   "source": [
    "model = Sequential()\n",
    "# Dense(200) is a fully-connected layer with 200 hidden units.\n",
    "# In the first layer, we specify the input data shape\n",
    "\n",
    "model.add(Dense(200, activation='relu', input_dim=X_train.shape[1]))\n",
    "model.add(Dropout(0.5))\n",
    "model.add(Dense(64, activation='relu'))\n",
    "model.add(Dropout(0.4))\n",
    "model.add(Dense(y_train.shape[1], activation='softmax'))\n",
    "\n",
    "model.compile(optimizer='adam', loss='categorical_crossentropy', metrics=['accuracy'])\n",
    "model.summary()"
   ]
  },
  {
   "cell_type": "code",
   "execution_count": 533,
   "metadata": {},
   "outputs": [
    {
     "name": "stdout",
     "output_type": "stream",
     "text": [
      "Epoch 1/11\n",
      "46240/46240 [==============================] - 31s 676us/step - loss: 0.8753 - acc: 0.74808s - loss:\n",
      "Epoch 2/11\n",
      "46240/46240 [==============================] - 6s 134us/step - loss: 0.3082 - acc: 0.9159 1s - loss: 0.3\n",
      "Epoch 3/11\n",
      "46240/46240 [==============================] - 5s 110us/step - loss: 0.2349 - acc: 0.9345\n",
      "Epoch 4/11\n",
      "46240/46240 [==============================] - 5s 119us/step - loss: 0.1983 - acc: 0.9444\n",
      "Epoch 5/11\n",
      "46240/46240 [==============================] - 5s 98us/step - loss: 0.1777 - acc: 0.9503\n",
      "Epoch 6/11\n",
      "46240/46240 [==============================] - 4s 94us/step - loss: 0.1593 - acc: 0.9553\n",
      "Epoch 7/11\n",
      "46240/46240 [==============================] - 5s 105us/step - loss: 0.1453 - acc: 0.9587\n",
      "Epoch 8/11\n",
      "46240/46240 [==============================] - 4s 94us/step - loss: 0.1336 - acc: 0.9619\n",
      "Epoch 9/11\n",
      "46240/46240 [==============================] - 4s 96us/step - loss: 0.1228 - acc: 0.9634\n",
      "Epoch 10/11\n",
      "46240/46240 [==============================] - 6s 130us/step - loss: 0.1154 - acc: 0.9658\n",
      "Epoch 11/11\n",
      "46240/46240 [==============================] - 7s 153us/step - loss: 0.1117 - acc: 0.9667\n"
     ]
    },
    {
     "data": {
      "text/plain": [
       "<keras.callbacks.History at 0x234d18f6be0>"
      ]
     },
     "execution_count": 533,
     "metadata": {},
     "output_type": "execute_result"
    }
   ],
   "source": [
    "model.fit(X_train, y_train,\n",
    "                    epochs=best_epoch+1,\n",
    "                    batch_size=batch_size,\n",
    "                    verbose=1,\n",
    "                   ) "
   ]
  },
  {
   "cell_type": "markdown",
   "metadata": {},
   "source": [
    "# Evaluation"
   ]
  },
  {
   "cell_type": "code",
   "execution_count": 534,
   "metadata": {},
   "outputs": [],
   "source": [
    "#from keras.models import load_model\n",
    "#model = load_model('tagger.h5')\n",
    "model.save('tagger_final.h5')"
   ]
  },
  {
   "cell_type": "code",
   "execution_count": 535,
   "metadata": {},
   "outputs": [
    {
     "name": "stdout",
     "output_type": "stream",
     "text": [
      "3408/3408 [==============================] - 1s 435us/step\n"
     ]
    }
   ],
   "source": [
    "scores = model.evaluate(X_test, y_test, verbose=1)"
   ]
  },
  {
   "cell_type": "code",
   "execution_count": 559,
   "metadata": {},
   "outputs": [
    {
     "name": "stdout",
     "output_type": "stream",
     "text": [
      "3408/3408 [==============================] - 4s 1ms/step\n"
     ]
    }
   ],
   "source": [
    "y_pred = model.predict(X_test, batch_size=1, verbose=1)"
   ]
  },
  {
   "cell_type": "code",
   "execution_count": 562,
   "metadata": {},
   "outputs": [
    {
     "name": "stdout",
     "output_type": "stream",
     "text": [
      "Accuracy: 0.9589\n",
      "f1-macro score: 0.8868\n"
     ]
    }
   ],
   "source": [
    "print(\"Accuracy: {0:.4f}\".format(scores[1]))\n",
    "print('f1-macro score: {0:.4f}'.format(f1_score(y_test.argmax(axis=1), y_pred.argmax(axis=1), average='macro')))"
   ]
  },
  {
   "cell_type": "markdown",
   "metadata": {},
   "source": [
    "## Classification report"
   ]
  },
  {
   "cell_type": "code",
   "execution_count": 538,
   "metadata": {},
   "outputs": [
    {
     "name": "stdout",
     "output_type": "stream",
     "text": [
      "              precision    recall  f1-score   support\n",
      "\n",
      "           0     0.8739    0.8973    0.8855       224\n",
      "           1     0.9543    0.9836    0.9687       488\n",
      "           2     0.8926    0.8244    0.8571       131\n",
      "           3     0.9872    0.9872    0.9872       234\n",
      "           4     1.0000    0.9896    0.9948        96\n",
      "           5     0.9932    0.9909    0.9920       439\n",
      "           6     0.0000    0.0000    0.0000         2\n",
      "           7     0.9732    0.9641    0.9686       753\n",
      "           8     0.9836    0.9836    0.9836        61\n",
      "           9     0.9545    0.9545    0.9545        66\n",
      "          10     0.9252    0.9340    0.9296       106\n",
      "          11     0.9167    0.8556    0.8851        90\n",
      "          12     1.0000    1.0000    1.0000       339\n",
      "          13     0.9091    0.7843    0.8421        51\n",
      "          15     0.9231    0.9571    0.9398       326\n",
      "          16     1.0000    1.0000    1.0000         2\n",
      "\n",
      "   micro avg     0.9589    0.9589    0.9589      3408\n",
      "   macro avg     0.8929    0.8816    0.8868      3408\n",
      "weighted avg     0.9583    0.9589    0.9584      3408\n",
      "\n"
     ]
    }
   ],
   "source": [
    "print(classification_report(y_test.argmax(axis=1), y_pred.argmax(axis=1), digits=4))"
   ]
  },
  {
   "cell_type": "markdown",
   "metadata": {},
   "source": [
    "## Frequent types of mistakes"
   ]
  },
  {
   "cell_type": "code",
   "execution_count": 539,
   "metadata": {},
   "outputs": [
    {
     "name": "stdout",
     "output_type": "stream",
     "text": [
      "Accuracy: 0.9589\n",
      "Total errors/Total words: 140/3408\n",
      "\n",
      "Most common errors: [('as', 14), ('to', 7), ('that', 5), ('appointed', 5), ('part', 3), ('justice', 3), ('general', 3), ('yes', 2), ('been', 2), ('at', 2), ('romanian', 2), ('thereto', 2), ('no', 2), ('longer', 2), ('base', 2), ('than', 1), ('copyright', 1), ('express', 1), ('merchantibility', 1), ('noninfringement', 1)]\n"
     ]
    }
   ],
   "source": [
    "import collections\n",
    "k=0\n",
    "i2w = id2word(test_sentences)\n",
    "error_counter = collections.Counter()\n",
    "for i in range(X_test.shape[0]):\n",
    "    correct_tag_id = y_test.argmax(axis=1)\n",
    "    if y_pred.argmax(axis=1)[i]!=y_test.argmax(axis=1)[i]:\n",
    "        k += 1\n",
    "        word = i2w[i]\n",
    "        error_counter[word] += 1\n",
    "print('Accuracy: {0:.4f}'.format((len(i2w)-k)/len(i2w)))\n",
    "print('Total errors/Total words: {}/{}\\n'.format(k,len(i2w)))\n",
    "print('Most common errors:',error_counter.most_common(20))"
   ]
  },
  {
   "cell_type": "markdown",
   "metadata": {},
   "source": [
    "## Learning curves"
   ]
  },
  {
   "cell_type": "code",
   "execution_count": 540,
   "metadata": {},
   "outputs": [
    {
     "data": {
      "image/png": "[encoded data removed]",
      "text/plain": [
       "<Figure size 432x288 with 1 Axes>"
      ]
     },
     "metadata": {},
     "output_type": "display_data"
    }
   ],
   "source": [
    "plt.plot(history.history['acc'])\n",
    "plt.plot(history.history['val_acc'])\n",
    "plt.title('model accuracy')\n",
    "plt.ylabel('accuracy')\n",
    "plt.xlabel('epoch')\n",
    "plt.legend(['train', 'test'], loc='upper left')\n",
    "plt.show()"
   ]
  },
  {
   "cell_type": "code",
   "execution_count": 541,
   "metadata": {},
   "outputs": [
    {
     "data": {
      "image/png": "[encoded data removed]",
      "text/plain": [
       "<Figure size 432x288 with 1 Axes>"
      ]
     },
     "metadata": {},
     "output_type": "display_data"
    }
   ],
   "source": [
    "# summarize history for loss\n",
    "plt.plot(history.history['loss'])\n",
    "plt.plot(history.history['val_loss'])\n",
    "plt.title('model loss')\n",
    "plt.ylabel('loss')\n",
    "plt.xlabel('epoch')\n",
    "plt.legend(['train', 'test'], loc='upper left')\n",
    "plt.show()"
   ]
  },
  {
   "cell_type": "markdown",
   "metadata": {},
   "source": [
    "## Confusion matrix"
   ]
  },
  {
   "cell_type": "code",
   "execution_count": 563,
   "metadata": {},
   "outputs": [],
   "source": [
    "cnf_matrix = confusion_matrix(y_test.argmax(axis=1), y_pred.argmax(axis=1))\n",
    "name='MLP'"
   ]
  },
  {
   "cell_type": "code",
   "execution_count": 569,
   "metadata": {},
   "outputs": [
    {
     "data": {
      "image/png": "[encoded data removed]",
      "text/plain": [
       "<Figure size 720x432 with 2 Axes>"
      ]
     },
     "metadata": {},
     "output_type": "display_data"
    }
   ],
   "source": [
    "plot_confusion_matrix(f1_score(y_test.argmax(axis=1), y_pred.argmax(axis=1), average='macro'), cnf_matrix, target_names=classes, title='Confusion matrix for '+name+' classifier', normalize=False)"
   ]
  },
  {
   "cell_type": "markdown",
   "metadata": {},
   "source": [
    "## Tag an uknown sentence"
   ]
  },
  {
   "cell_type": "markdown",
   "metadata": {},
   "source": [
    "Lets try the predicting power of our trained tagger:"
   ]
  },
  {
   "cell_type": "code",
   "execution_count": 544,
   "metadata": {},
   "outputs": [],
   "source": [
    "test_sentence = nltk.word_tokenize('Word embeddings provide a dense representation of words and their relative meanings.'.lower())"
   ]
  },
  {
   "cell_type": "code",
   "execution_count": 545,
   "metadata": {},
   "outputs": [],
   "source": [
    "X_test_sentence = transform_test_sentence(test_sentence, window=1)"
   ]
  },
  {
   "cell_type": "code",
   "execution_count": 546,
   "metadata": {},
   "outputs": [],
   "source": [
    "X_embs = [x[1][0] for x in X_test_sentence]\n",
    "X_embs = np.asarray(X_embs)\n",
    "X_test_sentence = X_embs"
   ]
  },
  {
   "cell_type": "code",
   "execution_count": 547,
   "metadata": {},
   "outputs": [
    {
     "name": "stdout",
     "output_type": "stream",
     "text": [
      "13/13 [==============================] - 0s 2ms/step\n"
     ]
    }
   ],
   "source": [
    "pred = model.predict_classes(X_test_sentence, batch_size=1, verbose=1)"
   ]
  },
  {
   "cell_type": "code",
   "execution_count": 548,
   "metadata": {},
   "outputs": [
    {
     "name": "stdout",
     "output_type": "stream",
     "text": [
      "Here is what our MLP tagger predicts for the test sentence:\n",
      " [('word', 'NOUN'), ('embeddings', 'NOUN'), ('provide', 'VERB'), ('a', 'DET'), ('dense', 'ADJ'), ('representation', 'NOUN'), ('of', 'ADP'), ('words', 'NOUN'), ('and', 'CCONJ'), ('their', 'DET'), ('relative', 'ADJ'), ('meanings', 'NOUN'), ('.', 'PUNCT')]\n"
     ]
    }
   ],
   "source": [
    "print('Here is what our MLP tagger predicts for the test sentence:\\n',list(zip(test_sentence, le.inverse_transform(pred))))"
   ]
  },
  {
   "cell_type": "markdown",
   "metadata": {},
   "source": [
    "MLP Tagger works very nice!"
   ]
  }
 ],
 "metadata": {
  "kernelspec": {
   "display_name": "Python 3",
   "language": "python",
   "name": "python3"
  },
  "language_info": {
   "codemirror_mode": {
    "name": "ipython",
    "version": 3
   },
   "file_extension": ".py",
   "mimetype": "text/x-python",
   "name": "python",
   "nbconvert_exporter": "python",
   "pygments_lexer": "ipython3",
   "version": "3.6.3"
  }
 },
 "nbformat": 4,
 "nbformat_minor": 2
}
